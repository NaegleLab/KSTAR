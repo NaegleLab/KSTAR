{
 "metadata": {
  "language_info": {
   "codemirror_mode": {
    "name": "ipython",
    "version": 3
   },
   "file_extension": ".py",
   "mimetype": "text/x-python",
   "name": "python",
   "nbconvert_exporter": "python",
   "pygments_lexer": "ipython3",
   "version": "3.7.6-final"
  },
  "orig_nbformat": 2,
  "kernelspec": {
   "name": "python3",
   "display_name": "Python 3"
  }
 },
 "nbformat": 4,
 "nbformat_minor": 2,
 "cells": [
  {
   "source": [
    "# KSTAR Example Analysis using BCR-ABL"
   ],
   "cell_type": "markdown",
   "metadata": {}
  },
  {
   "source": [
    "## Way 1 : Use run_star_analysis to do the following\n",
    "1. Map data\n",
    "2. Run KSTAR analysis \n",
    "3. Generate random experiments\n",
    "4. Find FPR p-value\n",
    "5. Normalize data\n",
    "6. Save all data"
   ],
   "cell_type": "markdown",
   "metadata": {}
  },
  {
   "cell_type": "code",
   "execution_count": 1,
   "metadata": {},
   "outputs": [],
   "source": [
    "import pandas as pd\n",
    "from kstar import kstar_runner, helpers\n",
    "\n",
    "odir = '/Users/bj8th/Documents/GitHub/KSTAR/analysis/BCR-ABL'\n",
    "name = 'BCR-ABL'\n",
    "run_log = helpers.get_logger(f\"{name}_run\", f\"{odir}/{name}_run.log\")\n",
    "\n",
    "experiment = pd.read_csv('/Users/bj8th/Documents/GitHub/KSTAR/analysis/BCR-ABL/PRE-MAPPED/experiment.1704.tsv', sep = '\\t')\n",
    "experiment.rename(columns={'average:data:treated_to_untreated:EOE(drug washout)' : 'EOE',\n",
    "       'average:data:treated_to_untreated:HDP3(3hrs post treatment)' :'HDP3',\n",
    "       'average:data:treated_to_untreated:HDP6(6hrs post treatment)' :'HDP6',\n",
    "       'average:data:treated_to_untreated:pre-treatment' : 'PRE'}, inplace=True)\n",
    "\n",
    "map_columns = {'peptide':'aligned_peptides', 'accession_id':'query_accession'}\n",
    "data_columns = ['EOE','HDP3','HDP6','PRE']\n",
    "window = 7\n",
    "phospho_types = ['Y']\n",
    "activity_agg = 'mean'\n",
    "threshold = 0.5\n",
    "greater = True\n",
    "normalize = True\n",
    "num_random_experiments = 2\n",
    "target_alpha = 0.05\n",
    "\n",
    "kstar_runner.run_kstar_analysis(\n",
    "    run_log, \n",
    "    odir, \n",
    "    name, \n",
    "    experiment, \n",
    "    data_columns, \n",
    "    map_columns, \n",
    "    window, \n",
    "    phospho_types, \n",
    "    activity_agg, \n",
    "    threshold, \n",
    "    greater, \n",
    "    normalize,\n",
    "    num_random_experiments, \n",
    "    target_alpha\n",
    ")\n",
    "\n"
   ]
  },
  {
   "source": [
    "## Way 2 : Manually Run STAR analysis"
   ],
   "cell_type": "markdown",
   "metadata": {}
  },
  {
   "cell_type": "code",
   "execution_count": 1,
   "metadata": {},
   "outputs": [],
   "source": [
    "import pandas as pd\n",
    "from kstar import kstar_runner\n",
    "\n",
    "from kstar.activity import kstar_activity\n",
    "from kstar.mapper import experiment_mapper\n",
    "from kstar import helpers, config\n",
    "\n",
    "import pickle"
   ]
  },
  {
   "cell_type": "code",
   "execution_count": 2,
   "metadata": {},
   "outputs": [],
   "source": [
    "odir = '/Users/bj8th/Documents/GitHub/KSTAR/analysis/BCR-ABL'\n",
    "name = 'BCR-ABL'"
   ]
  },
  {
   "source": [
    "### 1. Load pre-mapped experiment and map experiment\n"
   ],
   "cell_type": "markdown",
   "metadata": {}
  },
  {
   "cell_type": "code",
   "execution_count": 3,
   "metadata": {},
   "outputs": [],
   "source": [
    "# Load Data\n",
    "pre_mapped = pd.read_csv('/Users/bj8th/Documents/GitHub/KSTAR/analysis/BCR-ABL/PRE-MAPPED/experiment.1704.tsv', sep = '\\t')\n",
    "pre_mapped.rename(columns={'average:data:treated_to_untreated:EOE(drug washout)' : 'EOE',\n",
    "       'average:data:treated_to_untreated:HDP3(3hrs post treatment)' :'HDP3',\n",
    "       'average:data:treated_to_untreated:HDP6(6hrs post treatment)' :'HDP6',\n",
    "       'average:data:treated_to_untreated:pre-treatment' : 'PRE'}, inplace=True)"
   ]
  },
  {
   "cell_type": "code",
   "execution_count": 4,
   "metadata": {},
   "outputs": [],
   "source": [
    "#set column names dictionary, need at least a site and accession or peptide/accession, or all three\n",
    "map_dict = {'peptide':'aligned_peptides', 'accession_id':'query_accession'}\n",
    "data_columns = ['EOE','HDP3','HDP6','PRE']\n",
    "\n",
    "if not os.path.exists(f\"{odir}/MAPPED_DATA\"): \n",
    "    os.mkdir(f\"{odir}/MAPPED_DATA\")   \n",
    "mapping_log = helpers.get_logger(f\"mapping_{name}\", f\"{odir}/MAPPED_DATA/mapping_{name}.log\")\n",
    "exp_mapper = experiment_mapper.ExperimentMapper(experiment = pre_mapped,\n",
    "                                                columns = map_dict, \n",
    "                                                logger = mapping_log,\n",
    "                                                data_columns = data_columns)\n",
    "exp_mapper.experiment.to_csv(f\"{odir}/MAPPED_DATA/{name}_mapped.tsv\", sep = '\\t', index = False)\n",
    "\n"
   ]
  },
  {
   "source": [
    "### 2. Run Kinase Activity Analysis on Experiment"
   ],
   "cell_type": "markdown",
   "metadata": {}
  },
  {
   "cell_type": "code",
   "execution_count": 5,
   "metadata": {},
   "outputs": [],
   "source": [
    "# experiment = pd.read_csv('/Users/bj8th/Documents/GitHub/KSTAR/analysis/BCR-ABL/MAPPED_DATA/BCR-ABL_mapped.tsv', sep = '\\t')\n",
    "experiment = exp_mapper.experiment"
   ]
  },
  {
   "cell_type": "code",
   "execution_count": 6,
   "metadata": {},
   "outputs": [],
   "source": [
    "#get logger for analysis\n",
    "if not os.path.exists(f\"{odir}/RESULTS\"): \n",
    "    os.mkdir(f\"{odir}/RESULTS\") \n",
    "activity_log = helpers.get_logger(name, f'{odir}/RESULTS/{name}_kstar_activity.log')"
   ]
  },
  {
   "cell_type": "code",
   "execution_count": 7,
   "metadata": {},
   "outputs": [],
   "source": [
    "phospho_types = ['Y'] #running on this type of kinase/substrate network\n",
    "\n",
    "#preamble, setup the network dictionary. Here, using the default pickles from config\n",
    "# only have to load one of these if running analysis on only one substrate type\n",
    "networks = {}\n",
    "networks['Y'] = pickle.load(open(config.NETWORK_Y_PICKLE, \"rb\" ) )\n",
    "#networks['ST'] = pickle.load(open(config.NETWORK_ST_PICKLE, \"rb\" ) )"
   ]
  },
  {
   "source": [
    "agg = 'mean'\n",
    "threshold = 0.5\n",
    "greater = True\n",
    "kinact_dict = kstar_activity.run_kstar_analysis(experiment, activity_log, networks, phospho_types = phospho_types, data_columns = None, agg =agg, threshold = threshold,  greater = greater)"
   ],
   "cell_type": "code",
   "metadata": {},
   "execution_count": 8,
   "outputs": []
  },
  {
   "source": [
    "### 3. Normalize experiment activity results"
   ],
   "cell_type": "markdown",
   "metadata": {}
  },
  {
   "cell_type": "code",
   "execution_count": 9,
   "metadata": {},
   "outputs": [
    {
     "output_type": "execute_result",
     "data": {
      "text/plain": [
       "             data:EOE  data:HDP3  data:HDP6      data:PRE\n",
       "Kinase Name                                              \n",
       "ABL1         0.000536   0.003023   0.001220  1.324631e-06\n",
       "ABL2         0.000788   0.001762   0.001137  6.324278e-07\n",
       "BLK          0.051136   0.078854   0.026532  1.095167e-02\n",
       "BMX          0.073528   0.156551   0.031621  8.024622e-03\n",
       "BTK          0.032667   0.265317   0.004215  2.742062e-03\n",
       "CSF1R        0.065534   0.160495   0.026521  2.546213e-04\n",
       "EGFR         0.069633   0.171836   0.126768  3.029107e-03\n",
       "EPHA1        0.071883   0.069989   0.056011  1.614127e-02\n",
       "EPHA2        0.066034   0.031628   0.027317  2.986685e-03\n",
       "EPHA3        0.031664   0.033446   0.012608  5.133009e-03\n",
       "EPHA4        0.031398   0.031771   0.051182  4.963423e-03\n",
       "EPHA5        0.073831   0.065330   0.063501  1.487383e-02\n",
       "EPHA6        0.033877   0.035664   0.051796  1.088888e-02\n",
       "EPHA7        0.031683   0.054823   0.042310  1.578454e-02\n",
       "EPHA8        0.052650   0.107730   0.033642  1.733187e-02\n",
       "EPHB1        0.100069   0.144975   0.061814  1.750604e-02\n",
       "EPHB2        0.023493   0.030209   0.031261  3.370701e-03\n",
       "EPHB3        0.039889   0.058763   0.067357  5.839975e-03\n",
       "EPHB4        0.070085   0.130518   0.109561  2.882418e-02\n",
       "EPHB6        0.051159   0.068545   0.062448  1.357580e-02\n",
       "ERBB2        0.249622   0.431311   0.268189  3.484960e-02\n",
       "ERBB3        0.257271   0.280801   0.253964  6.127574e-02\n",
       "ERBB4        0.144896   0.149359   0.141912  3.250907e-02\n",
       "FGR          0.072228   0.074075   0.027091  6.357641e-03\n",
       "FLT1         0.267023   0.287039   0.351222  5.826436e-02\n",
       "FLT3         0.032795   0.071287   0.026393  3.185855e-03\n",
       "FRK          0.021684   0.065228   0.044830  1.565093e-02\n",
       "FYN          0.773506   0.825623   0.388734  3.794576e-01\n",
       "HCK          0.031801   0.137524   0.001686  1.831119e-04\n",
       "IGF1R        0.159141   0.291727   0.224864  1.076761e-01\n",
       "INSR         0.071156   0.261272   0.058190  1.845530e-04\n",
       "INSRR        0.142455   0.144872   0.177300  6.272649e-02\n",
       "ITK          0.260692   0.432035   0.255262  1.810842e-01\n",
       "KDR          0.077724   0.274266   0.109126  1.792169e-01\n",
       "KIT          0.004964   0.034704   0.003837  6.066263e-06\n",
       "LCK          0.760131   0.666561   0.468983  1.694771e-01\n",
       "MET          0.142608   0.407188   0.065539  1.366562e-03\n",
       "MST1R        0.099979   0.148313   0.121406  3.917599e-03\n",
       "NTRK1        0.033819   0.031971   0.017506  1.309777e-02\n",
       "NTRK2        0.758714   0.670344   0.742974  7.996085e-01\n",
       "NTRK3        0.138876   0.254852   0.142564  1.660751e-01\n",
       "PDGFRA       0.404612   0.467656   0.223589  5.561687e-02\n",
       "PDGFRB       0.048732   0.645652   0.026475  4.306336e-03\n",
       "PTK6         0.032677   0.062734   0.060654  1.276795e-02\n",
       "SRC          0.145849   0.203476   0.228721  5.691401e-02\n",
       "SRMS         0.063573   0.269826   0.036196  3.815881e-03\n",
       "TEC          0.014142   0.080511   0.012945  3.598151e-04\n",
       "TXK          0.201623   0.291452   0.220500  1.453184e-01\n",
       "TYK2         0.278694   0.156964   0.234422  1.881313e-01\n",
       "YES1         0.112437   0.148840   0.093651  3.088581e-02"
      ],
      "text/html": "<div>\n<style scoped>\n    .dataframe tbody tr th:only-of-type {\n        vertical-align: middle;\n    }\n\n    .dataframe tbody tr th {\n        vertical-align: top;\n    }\n\n    .dataframe thead th {\n        text-align: right;\n    }\n</style>\n<table border=\"1\" class=\"dataframe\">\n  <thead>\n    <tr style=\"text-align: right;\">\n      <th></th>\n      <th>data:EOE</th>\n      <th>data:HDP3</th>\n      <th>data:HDP6</th>\n      <th>data:PRE</th>\n    </tr>\n    <tr>\n      <th>Kinase Name</th>\n      <th></th>\n      <th></th>\n      <th></th>\n      <th></th>\n    </tr>\n  </thead>\n  <tbody>\n    <tr>\n      <th>ABL1</th>\n      <td>0.000536</td>\n      <td>0.003023</td>\n      <td>0.001220</td>\n      <td>1.324631e-06</td>\n    </tr>\n    <tr>\n      <th>ABL2</th>\n      <td>0.000788</td>\n      <td>0.001762</td>\n      <td>0.001137</td>\n      <td>6.324278e-07</td>\n    </tr>\n    <tr>\n      <th>BLK</th>\n      <td>0.051136</td>\n      <td>0.078854</td>\n      <td>0.026532</td>\n      <td>1.095167e-02</td>\n    </tr>\n    <tr>\n      <th>BMX</th>\n      <td>0.073528</td>\n      <td>0.156551</td>\n      <td>0.031621</td>\n      <td>8.024622e-03</td>\n    </tr>\n    <tr>\n      <th>BTK</th>\n      <td>0.032667</td>\n      <td>0.265317</td>\n      <td>0.004215</td>\n      <td>2.742062e-03</td>\n    </tr>\n    <tr>\n      <th>CSF1R</th>\n      <td>0.065534</td>\n      <td>0.160495</td>\n      <td>0.026521</td>\n      <td>2.546213e-04</td>\n    </tr>\n    <tr>\n      <th>EGFR</th>\n      <td>0.069633</td>\n      <td>0.171836</td>\n      <td>0.126768</td>\n      <td>3.029107e-03</td>\n    </tr>\n    <tr>\n      <th>EPHA1</th>\n      <td>0.071883</td>\n      <td>0.069989</td>\n      <td>0.056011</td>\n      <td>1.614127e-02</td>\n    </tr>\n    <tr>\n      <th>EPHA2</th>\n      <td>0.066034</td>\n      <td>0.031628</td>\n      <td>0.027317</td>\n      <td>2.986685e-03</td>\n    </tr>\n    <tr>\n      <th>EPHA3</th>\n      <td>0.031664</td>\n      <td>0.033446</td>\n      <td>0.012608</td>\n      <td>5.133009e-03</td>\n    </tr>\n    <tr>\n      <th>EPHA4</th>\n      <td>0.031398</td>\n      <td>0.031771</td>\n      <td>0.051182</td>\n      <td>4.963423e-03</td>\n    </tr>\n    <tr>\n      <th>EPHA5</th>\n      <td>0.073831</td>\n      <td>0.065330</td>\n      <td>0.063501</td>\n      <td>1.487383e-02</td>\n    </tr>\n    <tr>\n      <th>EPHA6</th>\n      <td>0.033877</td>\n      <td>0.035664</td>\n      <td>0.051796</td>\n      <td>1.088888e-02</td>\n    </tr>\n    <tr>\n      <th>EPHA7</th>\n      <td>0.031683</td>\n      <td>0.054823</td>\n      <td>0.042310</td>\n      <td>1.578454e-02</td>\n    </tr>\n    <tr>\n      <th>EPHA8</th>\n      <td>0.052650</td>\n      <td>0.107730</td>\n      <td>0.033642</td>\n      <td>1.733187e-02</td>\n    </tr>\n    <tr>\n      <th>EPHB1</th>\n      <td>0.100069</td>\n      <td>0.144975</td>\n      <td>0.061814</td>\n      <td>1.750604e-02</td>\n    </tr>\n    <tr>\n      <th>EPHB2</th>\n      <td>0.023493</td>\n      <td>0.030209</td>\n      <td>0.031261</td>\n      <td>3.370701e-03</td>\n    </tr>\n    <tr>\n      <th>EPHB3</th>\n      <td>0.039889</td>\n      <td>0.058763</td>\n      <td>0.067357</td>\n      <td>5.839975e-03</td>\n    </tr>\n    <tr>\n      <th>EPHB4</th>\n      <td>0.070085</td>\n      <td>0.130518</td>\n      <td>0.109561</td>\n      <td>2.882418e-02</td>\n    </tr>\n    <tr>\n      <th>EPHB6</th>\n      <td>0.051159</td>\n      <td>0.068545</td>\n      <td>0.062448</td>\n      <td>1.357580e-02</td>\n    </tr>\n    <tr>\n      <th>ERBB2</th>\n      <td>0.249622</td>\n      <td>0.431311</td>\n      <td>0.268189</td>\n      <td>3.484960e-02</td>\n    </tr>\n    <tr>\n      <th>ERBB3</th>\n      <td>0.257271</td>\n      <td>0.280801</td>\n      <td>0.253964</td>\n      <td>6.127574e-02</td>\n    </tr>\n    <tr>\n      <th>ERBB4</th>\n      <td>0.144896</td>\n      <td>0.149359</td>\n      <td>0.141912</td>\n      <td>3.250907e-02</td>\n    </tr>\n    <tr>\n      <th>FGR</th>\n      <td>0.072228</td>\n      <td>0.074075</td>\n      <td>0.027091</td>\n      <td>6.357641e-03</td>\n    </tr>\n    <tr>\n      <th>FLT1</th>\n      <td>0.267023</td>\n      <td>0.287039</td>\n      <td>0.351222</td>\n      <td>5.826436e-02</td>\n    </tr>\n    <tr>\n      <th>FLT3</th>\n      <td>0.032795</td>\n      <td>0.071287</td>\n      <td>0.026393</td>\n      <td>3.185855e-03</td>\n    </tr>\n    <tr>\n      <th>FRK</th>\n      <td>0.021684</td>\n      <td>0.065228</td>\n      <td>0.044830</td>\n      <td>1.565093e-02</td>\n    </tr>\n    <tr>\n      <th>FYN</th>\n      <td>0.773506</td>\n      <td>0.825623</td>\n      <td>0.388734</td>\n      <td>3.794576e-01</td>\n    </tr>\n    <tr>\n      <th>HCK</th>\n      <td>0.031801</td>\n      <td>0.137524</td>\n      <td>0.001686</td>\n      <td>1.831119e-04</td>\n    </tr>\n    <tr>\n      <th>IGF1R</th>\n      <td>0.159141</td>\n      <td>0.291727</td>\n      <td>0.224864</td>\n      <td>1.076761e-01</td>\n    </tr>\n    <tr>\n      <th>INSR</th>\n      <td>0.071156</td>\n      <td>0.261272</td>\n      <td>0.058190</td>\n      <td>1.845530e-04</td>\n    </tr>\n    <tr>\n      <th>INSRR</th>\n      <td>0.142455</td>\n      <td>0.144872</td>\n      <td>0.177300</td>\n      <td>6.272649e-02</td>\n    </tr>\n    <tr>\n      <th>ITK</th>\n      <td>0.260692</td>\n      <td>0.432035</td>\n      <td>0.255262</td>\n      <td>1.810842e-01</td>\n    </tr>\n    <tr>\n      <th>KDR</th>\n      <td>0.077724</td>\n      <td>0.274266</td>\n      <td>0.109126</td>\n      <td>1.792169e-01</td>\n    </tr>\n    <tr>\n      <th>KIT</th>\n      <td>0.004964</td>\n      <td>0.034704</td>\n      <td>0.003837</td>\n      <td>6.066263e-06</td>\n    </tr>\n    <tr>\n      <th>LCK</th>\n      <td>0.760131</td>\n      <td>0.666561</td>\n      <td>0.468983</td>\n      <td>1.694771e-01</td>\n    </tr>\n    <tr>\n      <th>MET</th>\n      <td>0.142608</td>\n      <td>0.407188</td>\n      <td>0.065539</td>\n      <td>1.366562e-03</td>\n    </tr>\n    <tr>\n      <th>MST1R</th>\n      <td>0.099979</td>\n      <td>0.148313</td>\n      <td>0.121406</td>\n      <td>3.917599e-03</td>\n    </tr>\n    <tr>\n      <th>NTRK1</th>\n      <td>0.033819</td>\n      <td>0.031971</td>\n      <td>0.017506</td>\n      <td>1.309777e-02</td>\n    </tr>\n    <tr>\n      <th>NTRK2</th>\n      <td>0.758714</td>\n      <td>0.670344</td>\n      <td>0.742974</td>\n      <td>7.996085e-01</td>\n    </tr>\n    <tr>\n      <th>NTRK3</th>\n      <td>0.138876</td>\n      <td>0.254852</td>\n      <td>0.142564</td>\n      <td>1.660751e-01</td>\n    </tr>\n    <tr>\n      <th>PDGFRA</th>\n      <td>0.404612</td>\n      <td>0.467656</td>\n      <td>0.223589</td>\n      <td>5.561687e-02</td>\n    </tr>\n    <tr>\n      <th>PDGFRB</th>\n      <td>0.048732</td>\n      <td>0.645652</td>\n      <td>0.026475</td>\n      <td>4.306336e-03</td>\n    </tr>\n    <tr>\n      <th>PTK6</th>\n      <td>0.032677</td>\n      <td>0.062734</td>\n      <td>0.060654</td>\n      <td>1.276795e-02</td>\n    </tr>\n    <tr>\n      <th>SRC</th>\n      <td>0.145849</td>\n      <td>0.203476</td>\n      <td>0.228721</td>\n      <td>5.691401e-02</td>\n    </tr>\n    <tr>\n      <th>SRMS</th>\n      <td>0.063573</td>\n      <td>0.269826</td>\n      <td>0.036196</td>\n      <td>3.815881e-03</td>\n    </tr>\n    <tr>\n      <th>TEC</th>\n      <td>0.014142</td>\n      <td>0.080511</td>\n      <td>0.012945</td>\n      <td>3.598151e-04</td>\n    </tr>\n    <tr>\n      <th>TXK</th>\n      <td>0.201623</td>\n      <td>0.291452</td>\n      <td>0.220500</td>\n      <td>1.453184e-01</td>\n    </tr>\n    <tr>\n      <th>TYK2</th>\n      <td>0.278694</td>\n      <td>0.156964</td>\n      <td>0.234422</td>\n      <td>1.881313e-01</td>\n    </tr>\n    <tr>\n      <th>YES1</th>\n      <td>0.112437</td>\n      <td>0.148840</td>\n      <td>0.093651</td>\n      <td>3.088581e-02</td>\n    </tr>\n  </tbody>\n</table>\n</div>"
     },
     "metadata": {},
     "execution_count": 9
    }
   ],
   "source": []
  },
  {
   "cell_type": "code",
   "execution_count": 10,
   "metadata": {},
   "outputs": [],
   "source": [
    "num_random_experiments=2\n",
    "target_alpha=0.05\n",
    "kstar_activity.normalize_analysis(kinact_dict, activity_log, num_random_experiments, target_alpha)"
   ]
  },
  {
   "source": [
    "### 4. Save Results"
   ],
   "cell_type": "markdown",
   "metadata": {}
  },
  {
   "cell_type": "code",
   "execution_count": null,
   "metadata": {},
   "outputs": [],
   "source": [
    "kstar_activity.save_kstar(kinact_dict, name, odir)"
   ]
  },
  {
   "cell_type": "code",
   "execution_count": 11,
   "metadata": {},
   "outputs": [
    {
     "output_type": "execute_result",
     "data": {
      "text/plain": [
       "KSTAR_ACCESSION    Q96IY4Q96IY4Q96IY4Q8NCR9Q8IUK8Q9BX69Q9BX69P313...\n",
       "KSTAR_SITE         Y156Y159Y380Y218Y116Y169Y178Y140Y162Y529Y590Y6...\n",
       "data:EOE:0                                                        94\n",
       "data:EOE:1                                                        94\n",
       "data:HDP3:0                                                       81\n",
       "data:HDP3:1                                                       81\n",
       "data:HDP6:0                                                       92\n",
       "data:HDP6:1                                                       92\n",
       "data:PRE:0                                                       161\n",
       "data:PRE:1                                                       161\n",
       "dtype: object"
      ]
     },
     "metadata": {},
     "execution_count": 11
    }
   ],
   "source": [
    "kinact = kinact_dict['Y']\n",
    "kinact.random_experiments.sum()"
   ]
  },
  {
   "cell_type": "code",
   "execution_count": 13,
   "metadata": {},
   "outputs": [
    {
     "output_type": "stream",
     "name": "stdout",
     "text": [
      "data:EOE: 94\ndata:HDP3: 81\ndata:HDP6: 92\ndata:PRE: 161\n"
     ]
    }
   ],
   "source": [
    "experiment = kinact.evidence.groupby(['KSTAR_ACCESSION', 'KSTAR_SITE']).agg(kinact.aggregate)\n",
    "for col in kinact.data_columns:\n",
    "    print(f\"{col}: {len(experiment[experiment[col] >= kinact.threshold])}\")"
   ]
  }
 ]
}