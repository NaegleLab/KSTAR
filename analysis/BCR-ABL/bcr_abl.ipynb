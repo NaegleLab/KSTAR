{
 "metadata": {
  "language_info": {
   "codemirror_mode": {
    "name": "ipython",
    "version": 3
   },
   "file_extension": ".py",
   "mimetype": "text/x-python",
   "name": "python",
   "nbconvert_exporter": "python",
   "pygments_lexer": "ipython3",
   "version": "3.7.6-final"
  },
  "orig_nbformat": 2,
  "kernelspec": {
   "name": "python3",
   "display_name": "Python 3"
  }
 },
 "nbformat": 4,
 "nbformat_minor": 2,
 "cells": [
  {
   "source": [
    "# KSTAR Example Analysis using BCR-ABL"
   ],
   "cell_type": "markdown",
   "metadata": {}
  },
  {
   "cell_type": "code",
   "execution_count": 1,
   "metadata": {},
   "outputs": [],
   "source": [
    "import pandas as pd\n",
    "\n",
    "from kstar.activity import kstar_activity\n",
    "from kstar.mapper import experiment_mapper\n",
    "from kstar import helpers, config\n",
    "\n",
    "import pickle"
   ]
  },
  {
   "cell_type": "code",
   "execution_count": 2,
   "metadata": {},
   "outputs": [],
   "source": [
    "odir = '/Users/bj8th/Documents/GitHub/KSTAR/analysis/BCR-ABL'\n",
    "name = 'BCR-ABL'"
   ]
  },
  {
   "source": [
    "## 1. Load pre-mapped experiment and map experiment\n"
   ],
   "cell_type": "markdown",
   "metadata": {}
  },
  {
   "cell_type": "code",
   "execution_count": 3,
   "metadata": {},
   "outputs": [],
   "source": [
    "# Load Data\n",
    "pre_mapped = pd.read_csv('/Users/bj8th/Documents/GitHub/KSTAR/analysis/BCR-ABL/PRE-MAPPED/experiment.1704.tsv', sep = '\\t')\n",
    "pre_mapped.rename(columns={'average:data:treated_to_untreated:EOE(drug washout)' : 'EOE',\n",
    "       'average:data:treated_to_untreated:HDP3(3hrs post treatment)' :'HDP3',\n",
    "       'average:data:treated_to_untreated:HDP6(6hrs post treatment)' :'HDP6',\n",
    "       'average:data:treated_to_untreated:pre-treatment' : 'PRE'}, inplace=True)"
   ]
  },
  {
   "cell_type": "code",
   "execution_count": 4,
   "metadata": {},
   "outputs": [],
   "source": [
    "#set column names dictionary, need at least a site and accession or peptide/accession, or all three\n",
    "map_dict = {'peptide':'aligned_peptides', 'accession_id':'query_accession'}\n",
    "\n",
    "if not os.path.exists(f\"{odir}/MAPPED_DATA\"): \n",
    "    os.mkdir(f\"{odir}/MAPPED_DATA\")   \n",
    "mapping_log = helpers.get_logger(f\"mapping_{name}\", f\"{odir}/MAPPED_DATA/mapping_{name}.log\")\n",
    "exp_mapper = experiment_mapper.ExperimentMapper(experiment = pre_mapped,\n",
    "                                                columns = map_dict, \n",
    "                                                logger = mapping_log)\n",
    "exp_mapper.experiment.to_csv(f\"{odir}/MAPPED_DATA/{name}_mapped.tsv\", sep = '\\t', index = False)\n",
    "\n"
   ]
  },
  {
   "source": [
    "## 2. Run Kinase Activity Analysis on Experiment"
   ],
   "cell_type": "markdown",
   "metadata": {}
  },
  {
   "cell_type": "code",
   "execution_count": 5,
   "metadata": {},
   "outputs": [],
   "source": [
    "# experiment = pd.read_csv('/Users/bj8th/Documents/GitHub/KSTAR/analysis/BCR-ABL/MAPPED_DATA/BCR-ABL_mapped.tsv', sep = '\\t')\n",
    "experiment = exp_mapper.experiment"
   ]
  },
  {
   "cell_type": "code",
   "execution_count": 6,
   "metadata": {},
   "outputs": [],
   "source": [
    "activity_log = helpers.get_logger(name, f'{odir}/RESULTS/{name}_kstar_activity.log')"
   ]
  },
  {
   "cell_type": "code",
   "execution_count": 7,
   "metadata": {},
   "outputs": [],
   "source": [
    "phospho_types = ['Y'] #running on this type of kinase/substrate network\n",
    "\n",
    "#preamble, setup the network dictionary. Here, using the default pickles from config\n",
    "# only have to load one of these if running analysis on only one substrate type\n",
    "networks = {}\n",
    "networks['Y'] = pickle.load(open(config.NETWORK_Y_PICKLE, \"rb\" ) )\n",
    "#networks['ST'] = pickle.load(open(config.NETWORK_ST_PICKLE, \"rb\" ) )"
   ]
  },
  {
   "cell_type": "code",
   "execution_count": 10,
   "metadata": {},
   "outputs": [
    {
     "output_type": "execute_result",
     "data": {
      "text/plain": [
       "       MS_id query_accession     gene  locus  \\\n",
       "0    6086967          P18433    PTPRA    NaN   \n",
       "1    6086968          P68363   TUBA1B    NaN   \n",
       "2    6086969          P50395     GDI2    NaN   \n",
       "3    6086970          Q96HC4   PDLIM5    NaN   \n",
       "4    6086971          P57075  UBASH3A    NaN   \n",
       "..       ...             ...      ...    ...   \n",
       "156  6087125          P60900    PSMA6    NaN   \n",
       "157  6087126          P21980     TGM2    NaN   \n",
       "158  6087127          P49840    GSK3A    NaN   \n",
       "159  6087128          P51692   STAT5B    NaN   \n",
       "160  6087129          Q92841    DDX17    NaN   \n",
       "\n",
       "                                          protein_name       species  \\\n",
       "0     Receptor-type tyrosine-protein phosphatase alpha  homo sapiens   \n",
       "1                               Tubulin alpha-1B chain  homo sapiens   \n",
       "2                  Rab GDP dissociation inhibitor beta  homo sapiens   \n",
       "3                         PDZ and LIM domain protein 5  homo sapiens   \n",
       "4    Ubiquitin-associated and SH3 domain-containing...  homo sapiens   \n",
       "..                                                 ...           ...   \n",
       "156                    Proteasome subunit alpha type-6  homo sapiens   \n",
       "157      Protein-glutamine gamma-glutamyltransferase 2  homo sapiens   \n",
       "158                   Glycogen synthase kinase-3 alpha  homo sapiens   \n",
       "159  Signal transducer and activator of transcripti...  homo sapiens   \n",
       "160  probable ATP-dependent RNA helicase DDX17 isof...  homo sapiens   \n",
       "\n",
       "           peptide mod_sites    gene_site aligned_peptides modification_types  \\\n",
       "0             Y798      Y798   PTPRA_Y798  YIDAFSDyANFK       Phosphotyrosine   \n",
       "1             Y357      Y357  TUBA1B_Y357  GFKVGINyQPPTVVP    Phosphotyrosine   \n",
       "2             Y203      Y203    GDI2_Y203  DYLDQPCyETINRIK    Phosphotyrosine   \n",
       "3             Y251      Y251  PDLIM5_Y251  VERYTEFyHVPTHSD    Phosphotyrosine   \n",
       "4               Y9        Y9   UBASH3A_Y9  AAGETQLyAKVSNKL    Phosphotyrosine   \n",
       "..             ...       ...          ...              ...                ...   \n",
       "156           Y159      Y159   PSMA6_Y159  YKCDPAGyYCGFKAT    Phosphotyrosine   \n",
       "157           Y369      Y369    TGM2_Y369  QEKSEGTyCCGPVPV    Phosphotyrosine   \n",
       "158           Y279      Y279   GSK3A_Y279  RGEPNVSyICSRYYR    Phosphotyrosine   \n",
       "159  yYTPVPCESATAK      Y682  STAT5B_Y682  KDEVYSKyYTPVPCE    Phosphotyrosine   \n",
       "160   LKSTCIyGGAPK      Y279   DDX17_Y279  RLKSTCIyGGAPKGP    Phosphotyrosine   \n",
       "\n",
       "        EOE    HDP3    HDP6  PRE KSTAR_ACCESSION    KSTAR_PEPTIDE KSTAR_SITE  \\\n",
       "0    0.1468  0.0000  0.0000  1.0          P18433     YIDAFSDyANFK       Y798   \n",
       "1    1.1824  0.9501  0.9253  1.0          P68363  GFKVGINyQPPTVVP       Y357   \n",
       "2    0.9973  0.8615  0.9303  1.0          P50395  DYLDQPCyETINRIK       Y203   \n",
       "3    0.0010  0.0269  0.0680  1.0          Q96HC4  VERYTEFyHVPTHSD       Y251   \n",
       "4    0.0481  0.0025  0.0038  1.0          P57075  AAGETQLyAKVSNKL         Y9   \n",
       "..      ...     ...     ...  ...             ...              ...        ...   \n",
       "156  0.1595  3.3971  2.8981  1.0          P60900  YKCDPAGyYCGFKAT       Y159   \n",
       "157  0.8797  0.8897  0.8507  1.0          P21980  QEKSEGTyCCGPVPV       Y369   \n",
       "158  0.9997  0.9837  0.9561  1.0          P49840  RGEPNVSyICSRYYR       Y279   \n",
       "159  1.2137  0.7546  0.0329  1.0          P51692  KDEVYSKyYTPVPCE       Y682   \n",
       "160  2.5015  1.1618  9.1125  1.0          Q92841  RLKSTCIyGGAPKGP       Y279   \n",
       "\n",
       "     KSTAR_NUM_COMPENDIA  KSTAR_NUM_COMPENDIA_CLASS  \n",
       "0                      4                          2  \n",
       "1                      2                          1  \n",
       "2                      4                          2  \n",
       "3                      4                          2  \n",
       "4                      1                          1  \n",
       "..                   ...                        ...  \n",
       "156                    3                          1  \n",
       "157                    4                          2  \n",
       "158                    5                          2  \n",
       "159                    2                          1  \n",
       "160                    3                          1  \n",
       "\n",
       "[161 rows x 20 columns]"
      ],
      "text/html": "<div>\n<style scoped>\n    .dataframe tbody tr th:only-of-type {\n        vertical-align: middle;\n    }\n\n    .dataframe tbody tr th {\n        vertical-align: top;\n    }\n\n    .dataframe thead th {\n        text-align: right;\n    }\n</style>\n<table border=\"1\" class=\"dataframe\">\n  <thead>\n    <tr style=\"text-align: right;\">\n      <th></th>\n      <th>MS_id</th>\n      <th>query_accession</th>\n      <th>gene</th>\n      <th>locus</th>\n      <th>protein_name</th>\n      <th>species</th>\n      <th>peptide</th>\n      <th>mod_sites</th>\n      <th>gene_site</th>\n      <th>aligned_peptides</th>\n      <th>modification_types</th>\n      <th>EOE</th>\n      <th>HDP3</th>\n      <th>HDP6</th>\n      <th>PRE</th>\n      <th>KSTAR_ACCESSION</th>\n      <th>KSTAR_PEPTIDE</th>\n      <th>KSTAR_SITE</th>\n      <th>KSTAR_NUM_COMPENDIA</th>\n      <th>KSTAR_NUM_COMPENDIA_CLASS</th>\n    </tr>\n  </thead>\n  <tbody>\n    <tr>\n      <th>0</th>\n      <td>6086967</td>\n      <td>P18433</td>\n      <td>PTPRA</td>\n      <td>NaN</td>\n      <td>Receptor-type tyrosine-protein phosphatase alpha</td>\n      <td>homo sapiens</td>\n      <td>Y798</td>\n      <td>Y798</td>\n      <td>PTPRA_Y798</td>\n      <td>YIDAFSDyANFK</td>\n      <td>Phosphotyrosine</td>\n      <td>0.1468</td>\n      <td>0.0000</td>\n      <td>0.0000</td>\n      <td>1.0</td>\n      <td>P18433</td>\n      <td>YIDAFSDyANFK</td>\n      <td>Y798</td>\n      <td>4</td>\n      <td>2</td>\n    </tr>\n    <tr>\n      <th>1</th>\n      <td>6086968</td>\n      <td>P68363</td>\n      <td>TUBA1B</td>\n      <td>NaN</td>\n      <td>Tubulin alpha-1B chain</td>\n      <td>homo sapiens</td>\n      <td>Y357</td>\n      <td>Y357</td>\n      <td>TUBA1B_Y357</td>\n      <td>GFKVGINyQPPTVVP</td>\n      <td>Phosphotyrosine</td>\n      <td>1.1824</td>\n      <td>0.9501</td>\n      <td>0.9253</td>\n      <td>1.0</td>\n      <td>P68363</td>\n      <td>GFKVGINyQPPTVVP</td>\n      <td>Y357</td>\n      <td>2</td>\n      <td>1</td>\n    </tr>\n    <tr>\n      <th>2</th>\n      <td>6086969</td>\n      <td>P50395</td>\n      <td>GDI2</td>\n      <td>NaN</td>\n      <td>Rab GDP dissociation inhibitor beta</td>\n      <td>homo sapiens</td>\n      <td>Y203</td>\n      <td>Y203</td>\n      <td>GDI2_Y203</td>\n      <td>DYLDQPCyETINRIK</td>\n      <td>Phosphotyrosine</td>\n      <td>0.9973</td>\n      <td>0.8615</td>\n      <td>0.9303</td>\n      <td>1.0</td>\n      <td>P50395</td>\n      <td>DYLDQPCyETINRIK</td>\n      <td>Y203</td>\n      <td>4</td>\n      <td>2</td>\n    </tr>\n    <tr>\n      <th>3</th>\n      <td>6086970</td>\n      <td>Q96HC4</td>\n      <td>PDLIM5</td>\n      <td>NaN</td>\n      <td>PDZ and LIM domain protein 5</td>\n      <td>homo sapiens</td>\n      <td>Y251</td>\n      <td>Y251</td>\n      <td>PDLIM5_Y251</td>\n      <td>VERYTEFyHVPTHSD</td>\n      <td>Phosphotyrosine</td>\n      <td>0.0010</td>\n      <td>0.0269</td>\n      <td>0.0680</td>\n      <td>1.0</td>\n      <td>Q96HC4</td>\n      <td>VERYTEFyHVPTHSD</td>\n      <td>Y251</td>\n      <td>4</td>\n      <td>2</td>\n    </tr>\n    <tr>\n      <th>4</th>\n      <td>6086971</td>\n      <td>P57075</td>\n      <td>UBASH3A</td>\n      <td>NaN</td>\n      <td>Ubiquitin-associated and SH3 domain-containing...</td>\n      <td>homo sapiens</td>\n      <td>Y9</td>\n      <td>Y9</td>\n      <td>UBASH3A_Y9</td>\n      <td>AAGETQLyAKVSNKL</td>\n      <td>Phosphotyrosine</td>\n      <td>0.0481</td>\n      <td>0.0025</td>\n      <td>0.0038</td>\n      <td>1.0</td>\n      <td>P57075</td>\n      <td>AAGETQLyAKVSNKL</td>\n      <td>Y9</td>\n      <td>1</td>\n      <td>1</td>\n    </tr>\n    <tr>\n      <th>...</th>\n      <td>...</td>\n      <td>...</td>\n      <td>...</td>\n      <td>...</td>\n      <td>...</td>\n      <td>...</td>\n      <td>...</td>\n      <td>...</td>\n      <td>...</td>\n      <td>...</td>\n      <td>...</td>\n      <td>...</td>\n      <td>...</td>\n      <td>...</td>\n      <td>...</td>\n      <td>...</td>\n      <td>...</td>\n      <td>...</td>\n      <td>...</td>\n      <td>...</td>\n    </tr>\n    <tr>\n      <th>156</th>\n      <td>6087125</td>\n      <td>P60900</td>\n      <td>PSMA6</td>\n      <td>NaN</td>\n      <td>Proteasome subunit alpha type-6</td>\n      <td>homo sapiens</td>\n      <td>Y159</td>\n      <td>Y159</td>\n      <td>PSMA6_Y159</td>\n      <td>YKCDPAGyYCGFKAT</td>\n      <td>Phosphotyrosine</td>\n      <td>0.1595</td>\n      <td>3.3971</td>\n      <td>2.8981</td>\n      <td>1.0</td>\n      <td>P60900</td>\n      <td>YKCDPAGyYCGFKAT</td>\n      <td>Y159</td>\n      <td>3</td>\n      <td>1</td>\n    </tr>\n    <tr>\n      <th>157</th>\n      <td>6087126</td>\n      <td>P21980</td>\n      <td>TGM2</td>\n      <td>NaN</td>\n      <td>Protein-glutamine gamma-glutamyltransferase 2</td>\n      <td>homo sapiens</td>\n      <td>Y369</td>\n      <td>Y369</td>\n      <td>TGM2_Y369</td>\n      <td>QEKSEGTyCCGPVPV</td>\n      <td>Phosphotyrosine</td>\n      <td>0.8797</td>\n      <td>0.8897</td>\n      <td>0.8507</td>\n      <td>1.0</td>\n      <td>P21980</td>\n      <td>QEKSEGTyCCGPVPV</td>\n      <td>Y369</td>\n      <td>4</td>\n      <td>2</td>\n    </tr>\n    <tr>\n      <th>158</th>\n      <td>6087127</td>\n      <td>P49840</td>\n      <td>GSK3A</td>\n      <td>NaN</td>\n      <td>Glycogen synthase kinase-3 alpha</td>\n      <td>homo sapiens</td>\n      <td>Y279</td>\n      <td>Y279</td>\n      <td>GSK3A_Y279</td>\n      <td>RGEPNVSyICSRYYR</td>\n      <td>Phosphotyrosine</td>\n      <td>0.9997</td>\n      <td>0.9837</td>\n      <td>0.9561</td>\n      <td>1.0</td>\n      <td>P49840</td>\n      <td>RGEPNVSyICSRYYR</td>\n      <td>Y279</td>\n      <td>5</td>\n      <td>2</td>\n    </tr>\n    <tr>\n      <th>159</th>\n      <td>6087128</td>\n      <td>P51692</td>\n      <td>STAT5B</td>\n      <td>NaN</td>\n      <td>Signal transducer and activator of transcripti...</td>\n      <td>homo sapiens</td>\n      <td>yYTPVPCESATAK</td>\n      <td>Y682</td>\n      <td>STAT5B_Y682</td>\n      <td>KDEVYSKyYTPVPCE</td>\n      <td>Phosphotyrosine</td>\n      <td>1.2137</td>\n      <td>0.7546</td>\n      <td>0.0329</td>\n      <td>1.0</td>\n      <td>P51692</td>\n      <td>KDEVYSKyYTPVPCE</td>\n      <td>Y682</td>\n      <td>2</td>\n      <td>1</td>\n    </tr>\n    <tr>\n      <th>160</th>\n      <td>6087129</td>\n      <td>Q92841</td>\n      <td>DDX17</td>\n      <td>NaN</td>\n      <td>probable ATP-dependent RNA helicase DDX17 isof...</td>\n      <td>homo sapiens</td>\n      <td>LKSTCIyGGAPK</td>\n      <td>Y279</td>\n      <td>DDX17_Y279</td>\n      <td>RLKSTCIyGGAPKGP</td>\n      <td>Phosphotyrosine</td>\n      <td>2.5015</td>\n      <td>1.1618</td>\n      <td>9.1125</td>\n      <td>1.0</td>\n      <td>Q92841</td>\n      <td>RLKSTCIyGGAPKGP</td>\n      <td>Y279</td>\n      <td>3</td>\n      <td>1</td>\n    </tr>\n  </tbody>\n</table>\n<p>161 rows × 20 columns</p>\n</div>"
     },
     "metadata": {},
     "execution_count": 10
    }
   ],
   "source": [
    "experiment"
   ]
  },
  {
   "source": [
    "agg = 'mean'\n",
    "threshold = 0.5\n",
    "greater = True\n",
    "kinact_dict = kstar_activity.run_kstar_analysis(experiment, activity_log, networks, phospho_types = phospho_types, data_columns = None, agg =agg, threshold = threshold,  greater = greater)"
   ],
   "cell_type": "code",
   "metadata": {},
   "execution_count": 11,
   "outputs": [
    {
     "output_type": "error",
     "ename": "ValueError",
     "evalue": "No objects to concatenate",
     "traceback": [
      "\u001b[0;31m---------------------------------------------------------------------------\u001b[0m",
      "\u001b[0;31mValueError\u001b[0m                                Traceback (most recent call last)",
      "\u001b[0;32m<ipython-input-11-986044457292>\u001b[0m in \u001b[0;36m<module>\u001b[0;34m\u001b[0m\n\u001b[1;32m      2\u001b[0m \u001b[0mthreshold\u001b[0m \u001b[0;34m=\u001b[0m \u001b[0;36m0.5\u001b[0m\u001b[0;34m\u001b[0m\u001b[0;34m\u001b[0m\u001b[0m\n\u001b[1;32m      3\u001b[0m \u001b[0mgreater\u001b[0m \u001b[0;34m=\u001b[0m \u001b[0;32mTrue\u001b[0m\u001b[0;34m\u001b[0m\u001b[0;34m\u001b[0m\u001b[0m\n\u001b[0;32m----> 4\u001b[0;31m \u001b[0mkinact_dict\u001b[0m \u001b[0;34m=\u001b[0m \u001b[0mkstar_activity\u001b[0m\u001b[0;34m.\u001b[0m\u001b[0mrun_kstar_analysis\u001b[0m\u001b[0;34m(\u001b[0m\u001b[0mexperiment\u001b[0m\u001b[0;34m,\u001b[0m \u001b[0mactivity_log\u001b[0m\u001b[0;34m,\u001b[0m \u001b[0mnetworks\u001b[0m\u001b[0;34m,\u001b[0m \u001b[0mphospho_types\u001b[0m \u001b[0;34m=\u001b[0m \u001b[0mphospho_types\u001b[0m\u001b[0;34m,\u001b[0m \u001b[0mdata_columns\u001b[0m \u001b[0;34m=\u001b[0m \u001b[0;32mNone\u001b[0m\u001b[0;34m,\u001b[0m \u001b[0magg\u001b[0m \u001b[0;34m=\u001b[0m\u001b[0magg\u001b[0m\u001b[0;34m,\u001b[0m \u001b[0mthreshold\u001b[0m \u001b[0;34m=\u001b[0m \u001b[0mthreshold\u001b[0m\u001b[0;34m,\u001b[0m  \u001b[0mgreater\u001b[0m \u001b[0;34m=\u001b[0m \u001b[0mgreater\u001b[0m\u001b[0;34m)\u001b[0m\u001b[0;34m\u001b[0m\u001b[0;34m\u001b[0m\u001b[0m\n\u001b[0m",
      "\u001b[0;32m~/Documents/GitHub/KSTAR/kstar/activity/kstar_activity.py\u001b[0m in \u001b[0;36mrun_kstar_analysis\u001b[0;34m(experiment, log, networks, phospho_types, data_columns, agg, threshold, greater)\u001b[0m\n\u001b[1;32m    734\u001b[0m         \u001b[0mkinact\u001b[0m \u001b[0;34m=\u001b[0m \u001b[0mKinaseActivity\u001b[0m\u001b[0;34m(\u001b[0m\u001b[0mexperiment_sub\u001b[0m\u001b[0;34m,\u001b[0m \u001b[0mlog\u001b[0m\u001b[0;34m,\u001b[0m \u001b[0mphospho_type\u001b[0m\u001b[0;34m=\u001b[0m\u001b[0mphospho_type\u001b[0m\u001b[0;34m)\u001b[0m\u001b[0;34m\u001b[0m\u001b[0;34m\u001b[0m\u001b[0m\n\u001b[1;32m    735\u001b[0m         \u001b[0mkinact\u001b[0m\u001b[0;34m.\u001b[0m\u001b[0madd_networks_batch\u001b[0m\u001b[0;34m(\u001b[0m\u001b[0mnetworks\u001b[0m\u001b[0;34m[\u001b[0m\u001b[0mphospho_type\u001b[0m\u001b[0;34m]\u001b[0m\u001b[0;34m)\u001b[0m\u001b[0;34m\u001b[0m\u001b[0;34m\u001b[0m\u001b[0m\n\u001b[0;32m--> 736\u001b[0;31m         \u001b[0mkinact\u001b[0m\u001b[0;34m.\u001b[0m\u001b[0mcalculate_kinase_activities\u001b[0m\u001b[0;34m(\u001b[0m\u001b[0mdata_columns\u001b[0m\u001b[0;34m,\u001b[0m \u001b[0magg\u001b[0m\u001b[0;34m=\u001b[0m\u001b[0magg\u001b[0m\u001b[0;34m,\u001b[0m \u001b[0mthreshold\u001b[0m\u001b[0;34m=\u001b[0m\u001b[0mthreshold\u001b[0m\u001b[0;34m,\u001b[0m \u001b[0mgreater\u001b[0m\u001b[0;34m=\u001b[0m\u001b[0mgreater\u001b[0m\u001b[0;34m)\u001b[0m\u001b[0;34m\u001b[0m\u001b[0;34m\u001b[0m\u001b[0m\n\u001b[0m\u001b[1;32m    737\u001b[0m         \u001b[0mkinact\u001b[0m\u001b[0;34m.\u001b[0m\u001b[0maggregate_activities\u001b[0m\u001b[0;34m(\u001b[0m\u001b[0;34m)\u001b[0m\u001b[0;34m\u001b[0m\u001b[0;34m\u001b[0m\u001b[0m\n\u001b[1;32m    738\u001b[0m         \u001b[0mkinact\u001b[0m\u001b[0;34m.\u001b[0m\u001b[0msummarize_activities\u001b[0m\u001b[0;34m(\u001b[0m\u001b[0;34m)\u001b[0m\u001b[0;34m\u001b[0m\u001b[0;34m\u001b[0m\u001b[0m\n",
      "\u001b[0;32m~/Documents/GitHub/KSTAR/kstar/activity/kstar_activity.py\u001b[0m in \u001b[0;36mcalculate_kinase_activities\u001b[0;34m(self, data_columns, agg, threshold, greater)\u001b[0m\n\u001b[1;32m    315\u001b[0m         \u001b[0;31m#     act['data'] = col\u001b[0m\u001b[0;34m\u001b[0m\u001b[0;34m\u001b[0m\u001b[0;34m\u001b[0m\u001b[0m\n\u001b[1;32m    316\u001b[0m         \u001b[0;31m#     activities_list.append(act)\u001b[0m\u001b[0;34m\u001b[0m\u001b[0;34m\u001b[0m\u001b[0;34m\u001b[0m\u001b[0m\n\u001b[0;32m--> 317\u001b[0;31m         \u001b[0mself\u001b[0m\u001b[0;34m.\u001b[0m\u001b[0mactivities\u001b[0m \u001b[0;34m=\u001b[0m \u001b[0mpd\u001b[0m\u001b[0;34m.\u001b[0m\u001b[0mconcat\u001b[0m\u001b[0;34m(\u001b[0m\u001b[0mactivities_list\u001b[0m\u001b[0;34m)\u001b[0m\u001b[0;34m\u001b[0m\u001b[0;34m\u001b[0m\u001b[0m\n\u001b[0m\u001b[1;32m    318\u001b[0m         \u001b[0;32mreturn\u001b[0m \u001b[0mself\u001b[0m\u001b[0;34m.\u001b[0m\u001b[0mactivities\u001b[0m\u001b[0;34m\u001b[0m\u001b[0;34m\u001b[0m\u001b[0m\n\u001b[1;32m    319\u001b[0m \u001b[0;34m\u001b[0m\u001b[0m\n",
      "\u001b[0;32m~/anaconda3/envs/py37-kinDev/lib/python3.7/site-packages/pandas/core/reshape/concat.py\u001b[0m in \u001b[0;36mconcat\u001b[0;34m(objs, axis, join, ignore_index, keys, levels, names, verify_integrity, sort, copy)\u001b[0m\n\u001b[1;32m    279\u001b[0m         \u001b[0mverify_integrity\u001b[0m\u001b[0;34m=\u001b[0m\u001b[0mverify_integrity\u001b[0m\u001b[0;34m,\u001b[0m\u001b[0;34m\u001b[0m\u001b[0;34m\u001b[0m\u001b[0m\n\u001b[1;32m    280\u001b[0m         \u001b[0mcopy\u001b[0m\u001b[0;34m=\u001b[0m\u001b[0mcopy\u001b[0m\u001b[0;34m,\u001b[0m\u001b[0;34m\u001b[0m\u001b[0;34m\u001b[0m\u001b[0m\n\u001b[0;32m--> 281\u001b[0;31m         \u001b[0msort\u001b[0m\u001b[0;34m=\u001b[0m\u001b[0msort\u001b[0m\u001b[0;34m,\u001b[0m\u001b[0;34m\u001b[0m\u001b[0;34m\u001b[0m\u001b[0m\n\u001b[0m\u001b[1;32m    282\u001b[0m     )\n\u001b[1;32m    283\u001b[0m \u001b[0;34m\u001b[0m\u001b[0m\n",
      "\u001b[0;32m~/anaconda3/envs/py37-kinDev/lib/python3.7/site-packages/pandas/core/reshape/concat.py\u001b[0m in \u001b[0;36m__init__\u001b[0;34m(self, objs, axis, join, keys, levels, names, ignore_index, verify_integrity, copy, sort)\u001b[0m\n\u001b[1;32m    327\u001b[0m \u001b[0;34m\u001b[0m\u001b[0m\n\u001b[1;32m    328\u001b[0m         \u001b[0;32mif\u001b[0m \u001b[0mlen\u001b[0m\u001b[0;34m(\u001b[0m\u001b[0mobjs\u001b[0m\u001b[0;34m)\u001b[0m \u001b[0;34m==\u001b[0m \u001b[0;36m0\u001b[0m\u001b[0;34m:\u001b[0m\u001b[0;34m\u001b[0m\u001b[0;34m\u001b[0m\u001b[0m\n\u001b[0;32m--> 329\u001b[0;31m             \u001b[0;32mraise\u001b[0m \u001b[0mValueError\u001b[0m\u001b[0;34m(\u001b[0m\u001b[0;34m\"No objects to concatenate\"\u001b[0m\u001b[0;34m)\u001b[0m\u001b[0;34m\u001b[0m\u001b[0;34m\u001b[0m\u001b[0m\n\u001b[0m\u001b[1;32m    330\u001b[0m \u001b[0;34m\u001b[0m\u001b[0m\n\u001b[1;32m    331\u001b[0m         \u001b[0;32mif\u001b[0m \u001b[0mkeys\u001b[0m \u001b[0;32mis\u001b[0m \u001b[0;32mNone\u001b[0m\u001b[0;34m:\u001b[0m\u001b[0;34m\u001b[0m\u001b[0;34m\u001b[0m\u001b[0m\n",
      "\u001b[0;31mValueError\u001b[0m: No objects to concatenate"
     ]
    }
   ]
  },
  {
   "source": [
    "## 3. Normalize experiment activity results"
   ],
   "cell_type": "markdown",
   "metadata": {}
  },
  {
   "cell_type": "code",
   "execution_count": 8,
   "metadata": {},
   "outputs": [],
   "source": [
    "rand_experiments, rand_kinact = kstar_activity.normalize_analysis(kinact_dict, activity_log, 2)"
   ]
  },
  {
   "source": [
    "# 4. Save Results"
   ],
   "cell_type": "markdown",
   "metadata": {}
  },
  {
   "cell_type": "code",
   "execution_count": null,
   "metadata": {},
   "outputs": [],
   "source": []
  }
 ]
}