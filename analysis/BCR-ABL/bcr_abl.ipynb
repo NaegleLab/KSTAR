{
 "metadata": {
  "language_info": {
   "codemirror_mode": {
    "name": "ipython",
    "version": 3
   },
   "file_extension": ".py",
   "mimetype": "text/x-python",
   "name": "python",
   "nbconvert_exporter": "python",
   "pygments_lexer": "ipython3",
   "version": "3.7.6-final"
  },
  "orig_nbformat": 2,
  "kernelspec": {
   "name": "python3",
   "display_name": "Python 3"
  }
 },
 "nbformat": 4,
 "nbformat_minor": 2,
 "cells": [
  {
   "source": [
    "# KSTAR Example Analysis using BCR-ABL"
   ],
   "cell_type": "markdown",
   "metadata": {}
  },
  {
   "source": [
    "## Way 1 : Use run_star_analysis to do the following\n",
    "1. Map data\n",
    "2. Run KSTAR analysis \n",
    "3. Generate random experiments\n",
    "4. Find FPR p-value\n",
    "5. Normalize data\n",
    "6. Save all data"
   ],
   "cell_type": "markdown",
   "metadata": {}
  },
  {
   "cell_type": "code",
   "execution_count": 1,
   "metadata": {},
   "outputs": [
    {
     "output_type": "error",
     "ename": "AttributeError",
     "evalue": "'KinaseActivity' object has no attribute 'rand_kinact'",
     "traceback": [
      "\u001b[0;31m---------------------------------------------------------------------------\u001b[0m",
      "\u001b[0;31mAttributeError\u001b[0m                            Traceback (most recent call last)",
      "\u001b[0;32m<ipython-input-1-df8a6cfd2a56>\u001b[0m in \u001b[0;36m<module>\u001b[0;34m\u001b[0m\n\u001b[1;32m     24\u001b[0m \u001b[0;34m\u001b[0m\u001b[0m\n\u001b[1;32m     25\u001b[0m kstar_runner.run_kstar_analysis(\n\u001b[0;32m---> 26\u001b[0;31m     \u001b[0mrun_log\u001b[0m\u001b[0;34m,\u001b[0m \u001b[0modir\u001b[0m\u001b[0;34m,\u001b[0m \u001b[0mname\u001b[0m\u001b[0;34m,\u001b[0m \u001b[0mexperiment\u001b[0m\u001b[0;34m,\u001b[0m \u001b[0mdata_columns\u001b[0m\u001b[0;34m,\u001b[0m \u001b[0mmap_columns\u001b[0m\u001b[0;34m,\u001b[0m \u001b[0mwindow\u001b[0m\u001b[0;34m,\u001b[0m \u001b[0mphospho_types\u001b[0m\u001b[0;34m,\u001b[0m \u001b[0mactivity_agg\u001b[0m\u001b[0;34m,\u001b[0m \u001b[0mthreshold\u001b[0m\u001b[0;34m,\u001b[0m \u001b[0mgreater\u001b[0m\u001b[0;34m,\u001b[0m \u001b[0mnormalize\u001b[0m\u001b[0;34m,\u001b[0m\u001b[0mnum_random_experiments\u001b[0m\u001b[0;34m,\u001b[0m \u001b[0mtarget_alpha\u001b[0m\u001b[0;34m\u001b[0m\u001b[0;34m\u001b[0m\u001b[0m\n\u001b[0m\u001b[1;32m     27\u001b[0m )\n\u001b[1;32m     28\u001b[0m \u001b[0;34m\u001b[0m\u001b[0m\n",
      "\u001b[0;32m~/Documents/GitHub/KSTAR/kstar/kstar_runner.py\u001b[0m in \u001b[0;36mrun_kstar_analysis\u001b[0;34m(run_log, odir, name, experiment, data_columns, map_columns, window, phospho_types, activity_agg, threshold, greater, normalize, num_random_experiments, target_alpha)\u001b[0m\n\u001b[1;32m    131\u001b[0m \u001b[0;34m\u001b[0m\u001b[0m\n\u001b[1;32m    132\u001b[0m     \u001b[0;31m# ******************* SAVE DATA *************************\u001b[0m\u001b[0;34m\u001b[0m\u001b[0;34m\u001b[0m\u001b[0;34m\u001b[0m\u001b[0m\n\u001b[0;32m--> 133\u001b[0;31m     \u001b[0mkstar_activity\u001b[0m\u001b[0;34m.\u001b[0m\u001b[0msave_kstar\u001b[0m\u001b[0;34m(\u001b[0m\u001b[0mkinact_dict\u001b[0m\u001b[0;34m,\u001b[0m \u001b[0mname\u001b[0m\u001b[0;34m,\u001b[0m \u001b[0modir\u001b[0m\u001b[0;34m)\u001b[0m\u001b[0;34m\u001b[0m\u001b[0;34m\u001b[0m\u001b[0m\n\u001b[0m\u001b[1;32m    134\u001b[0m \u001b[0;34m\u001b[0m\u001b[0m\n\u001b[1;32m    135\u001b[0m \u001b[0;34m\u001b[0m\u001b[0m\n",
      "\u001b[0;32m~/Documents/GitHub/KSTAR/kstar/activity/kstar_activity.py\u001b[0m in \u001b[0;36msave_kstar\u001b[0;34m(kinact_dict, name, odir)\u001b[0m\n\u001b[1;32m    822\u001b[0m \u001b[0;34m\u001b[0m\u001b[0m\n\u001b[1;32m    823\u001b[0m             \u001b[0;32mif\u001b[0m \u001b[0mkinact\u001b[0m\u001b[0;34m.\u001b[0m\u001b[0mnormalized\u001b[0m\u001b[0;34m:\u001b[0m\u001b[0;34m\u001b[0m\u001b[0;34m\u001b[0m\u001b[0m\n\u001b[0;32m--> 824\u001b[0;31m                 \u001b[0mkinact\u001b[0m\u001b[0;34m.\u001b[0m\u001b[0mrand_kinact\u001b[0m\u001b[0;34m.\u001b[0m\u001b[0mactivities\u001b[0m\u001b[0;34m.\u001b[0m\u001b[0mto_csv\u001b[0m\u001b[0;34m(\u001b[0m\u001b[0;34mf\"{odir}/RANDOM_ANALYSIS/{name_out}_random_activities.tsv\"\u001b[0m\u001b[0;34m,\u001b[0m \u001b[0msep\u001b[0m \u001b[0;34m=\u001b[0m \u001b[0;34m'\\t'\u001b[0m\u001b[0;34m,\u001b[0m \u001b[0mindex\u001b[0m \u001b[0;34m=\u001b[0m \u001b[0;32mFalse\u001b[0m\u001b[0;34m)\u001b[0m\u001b[0;34m\u001b[0m\u001b[0;34m\u001b[0m\u001b[0m\n\u001b[0m\u001b[1;32m    825\u001b[0m                 \u001b[0mkinact\u001b[0m\u001b[0;34m.\u001b[0m\u001b[0mrand_kinact\u001b[0m\u001b[0;34m.\u001b[0m\u001b[0magg_activities\u001b[0m\u001b[0;34m.\u001b[0m\u001b[0mto_csv\u001b[0m\u001b[0;34m(\u001b[0m\u001b[0;34mf\"{odir}/RANDOM_ANALYSIS/{name_out}_random_aggregated_activities.tsv\"\u001b[0m\u001b[0;34m,\u001b[0m \u001b[0msep\u001b[0m \u001b[0;34m=\u001b[0m \u001b[0;34m'\\t'\u001b[0m\u001b[0;34m,\u001b[0m \u001b[0mindex\u001b[0m \u001b[0;34m=\u001b[0m \u001b[0;32mFalse\u001b[0m\u001b[0;34m)\u001b[0m\u001b[0;34m\u001b[0m\u001b[0;34m\u001b[0m\u001b[0m\n\u001b[1;32m    826\u001b[0m                 \u001b[0mkinact\u001b[0m\u001b[0;34m.\u001b[0m\u001b[0mrand_kinact\u001b[0m\u001b[0;34m.\u001b[0m\u001b[0mactivity_summary\u001b[0m\u001b[0;34m.\u001b[0m\u001b[0mto_csv\u001b[0m\u001b[0;34m(\u001b[0m\u001b[0;34mf\"{odir}/RANDOM_ANALYSIS/{name_out}_random_summarized_activities.tsv\"\u001b[0m\u001b[0;34m,\u001b[0m \u001b[0msep\u001b[0m \u001b[0;34m=\u001b[0m \u001b[0;34m'\\t'\u001b[0m\u001b[0;34m,\u001b[0m \u001b[0mindex\u001b[0m \u001b[0;34m=\u001b[0m \u001b[0;32mFalse\u001b[0m\u001b[0;34m)\u001b[0m\u001b[0;34m\u001b[0m\u001b[0;34m\u001b[0m\u001b[0m\n",
      "\u001b[0;31mAttributeError\u001b[0m: 'KinaseActivity' object has no attribute 'rand_kinact'"
     ]
    }
   ],
   "source": [
    "import pandas as pd\n",
    "from kstar import kstar_runner, helpers\n",
    "\n",
    "odir = '/Users/bj8th/Documents/GitHub/KSTAR/analysis/BCR-ABL'\n",
    "name = 'BCR-ABL'\n",
    "run_log = helpers.get_logger(f\"{name}_run\", f\"{odir}/{name}_run.log\")\n",
    "\n",
    "experiment = pd.read_csv('/Users/bj8th/Documents/GitHub/KSTAR/analysis/BCR-ABL/PRE-MAPPED/experiment.1704.tsv', sep = '\\t')\n",
    "experiment.rename(columns={'average:data:treated_to_untreated:EOE(drug washout)' : 'EOE',\n",
    "       'average:data:treated_to_untreated:HDP3(3hrs post treatment)' :'HDP3',\n",
    "       'average:data:treated_to_untreated:HDP6(6hrs post treatment)' :'HDP6',\n",
    "       'average:data:treated_to_untreated:pre-treatment' : 'PRE'}, inplace=True)\n",
    "\n",
    "map_columns = {'peptide':'aligned_peptides', 'accession_id':'query_accession'}\n",
    "data_columns = ['EOE','HDP3','HDP6','PRE']\n",
    "window = 7\n",
    "phospho_types = ['Y']\n",
    "activity_agg = 'mean'\n",
    "threshold = 0.5\n",
    "greater = True\n",
    "normalize = True\n",
    "num_random_experiments = 2\n",
    "target_alpha = 0.05\n",
    "\n",
    "kstar_runner.run_kstar_analysis(\n",
    "    run_log, \n",
    "    odir, \n",
    "    name, \n",
    "    experiment, \n",
    "    data_columns, \n",
    "    map_columns, \n",
    "    window, \n",
    "    phospho_types, \n",
    "    activity_agg, \n",
    "    threshold, \n",
    "    greater, \n",
    "    normalize,\n",
    "    num_random_experiments, \n",
    "    target_alpha\n",
    ")\n",
    "\n"
   ]
  },
  {
   "cell_type": "code",
   "execution_count": 3,
   "metadata": {},
   "outputs": [],
   "source": [
    "import pickle\n",
    "kinact_dict = pickle.load(open('/Users/bj8th/Documents/GitHub/KSTAR/analysis/BCR-ABL/RESULTS/BCR-ABL_kinact.p', \"rb\" ) )"
   ]
  },
  {
   "cell_type": "code",
   "execution_count": 8,
   "metadata": {},
   "outputs": [],
   "source": [
    "kinact = kinact_dict['Y']\n",
    "kinact.normalized_summary"
   ]
  },
  {
   "source": [
    "## Way 2 : Manually Run STAR analysis"
   ],
   "cell_type": "markdown",
   "metadata": {}
  },
  {
   "cell_type": "code",
   "execution_count": 1,
   "metadata": {},
   "outputs": [],
   "source": [
    "import pandas as pd\n",
    "from kstar import kstar_runner\n",
    "\n",
    "from kstar.activity import kstar_activity\n",
    "from kstar.mapper import experiment_mapper\n",
    "from kstar import helpers, config\n",
    "\n",
    "import pickle"
   ]
  },
  {
   "cell_type": "code",
   "execution_count": 2,
   "metadata": {},
   "outputs": [],
   "source": [
    "odir = '/Users/bj8th/Documents/GitHub/KSTAR/analysis/BCR-ABL'\n",
    "name = 'BCR-ABL'"
   ]
  },
  {
   "source": [
    "### 1. Load pre-mapped experiment and map experiment\n"
   ],
   "cell_type": "markdown",
   "metadata": {}
  },
  {
   "cell_type": "code",
   "execution_count": 3,
   "metadata": {},
   "outputs": [],
   "source": [
    "# Load Data\n",
    "pre_mapped = pd.read_csv('/Users/bj8th/Documents/GitHub/KSTAR/analysis/BCR-ABL/PRE-MAPPED/experiment.1704.tsv', sep = '\\t')\n",
    "pre_mapped.rename(columns={'average:data:treated_to_untreated:EOE(drug washout)' : 'EOE',\n",
    "       'average:data:treated_to_untreated:HDP3(3hrs post treatment)' :'HDP3',\n",
    "       'average:data:treated_to_untreated:HDP6(6hrs post treatment)' :'HDP6',\n",
    "       'average:data:treated_to_untreated:pre-treatment' : 'PRE'}, inplace=True)"
   ]
  },
  {
   "cell_type": "code",
   "execution_count": 4,
   "metadata": {},
   "outputs": [],
   "source": [
    "#set column names dictionary, need at least a site and accession or peptide/accession, or all three\n",
    "map_dict = {'peptide':'aligned_peptides', 'accession_id':'query_accession'}\n",
    "data_columns = ['EOE','HDP3','HDP6','PRE']\n",
    "\n",
    "if not os.path.exists(f\"{odir}/MAPPED_DATA\"): \n",
    "    os.mkdir(f\"{odir}/MAPPED_DATA\")   \n",
    "mapping_log = helpers.get_logger(f\"mapping_{name}\", f\"{odir}/MAPPED_DATA/mapping_{name}.log\")\n",
    "exp_mapper = experiment_mapper.ExperimentMapper(experiment = pre_mapped,\n",
    "                                                columns = map_dict, \n",
    "                                                logger = mapping_log,\n",
    "                                                data_columns = data_columns)\n",
    "exp_mapper.experiment.to_csv(f\"{odir}/MAPPED_DATA/{name}_mapped.tsv\", sep = '\\t', index = False)\n",
    "\n"
   ]
  },
  {
   "source": [
    "### 2. Run Kinase Activity Analysis on Experiment"
   ],
   "cell_type": "markdown",
   "metadata": {}
  },
  {
   "cell_type": "code",
   "execution_count": 5,
   "metadata": {},
   "outputs": [],
   "source": [
    "# experiment = pd.read_csv('/Users/bj8th/Documents/GitHub/KSTAR/analysis/BCR-ABL/MAPPED_DATA/BCR-ABL_mapped.tsv', sep = '\\t')\n",
    "experiment = exp_mapper.experiment"
   ]
  },
  {
   "cell_type": "code",
   "execution_count": 6,
   "metadata": {},
   "outputs": [],
   "source": [
    "activity_log = helpers.get_logger(name, f'{odir}/RESULTS/{name}_kstar_activity.log')"
   ]
  },
  {
   "cell_type": "code",
   "execution_count": 7,
   "metadata": {},
   "outputs": [],
   "source": [
    "phospho_types = ['Y'] #running on this type of kinase/substrate network\n",
    "\n",
    "#preamble, setup the network dictionary. Here, using the default pickles from config\n",
    "# only have to load one of these if running analysis on only one substrate type\n",
    "networks = {}\n",
    "networks['Y'] = pickle.load(open(config.NETWORK_Y_PICKLE, \"rb\" ) )\n",
    "#networks['ST'] = pickle.load(open(config.NETWORK_ST_PICKLE, \"rb\" ) )"
   ]
  },
  {
   "source": [
    "agg = 'mean'\n",
    "threshold = 0.5\n",
    "greater = True\n",
    "kinact_dict = kstar_activity.run_kstar_analysis(experiment, activity_log, networks, phospho_types = phospho_types, data_columns = None, agg =agg, threshold = threshold,  greater = greater)"
   ],
   "cell_type": "code",
   "metadata": {},
   "execution_count": 9,
   "outputs": []
  },
  {
   "source": [
    "### 3. Normalize experiment activity results"
   ],
   "cell_type": "markdown",
   "metadata": {}
  },
  {
   "cell_type": "code",
   "execution_count": 10,
   "metadata": {},
   "outputs": [],
   "source": [
    "num_random_experiments=2\n",
    "target_alpha=0.05\n",
    "for phospho_type, kinact in kinact_dict.items():\n",
    "    kinact.run_normalization(num_random_experiments, target_alpha)"
   ]
  },
  {
   "cell_type": "code",
   "execution_count": 8,
   "metadata": {},
   "outputs": [],
   "source": [
    "rand_experiments, rand_kinact = kstar_activity.normalize_analysis(kinact_dict, activity_log, 2)"
   ]
  },
  {
   "source": [
    "### 4. Save Results"
   ],
   "cell_type": "markdown",
   "metadata": {}
  },
  {
   "cell_type": "code",
   "execution_count": null,
   "metadata": {},
   "outputs": [],
   "source": []
  }
 ]
}