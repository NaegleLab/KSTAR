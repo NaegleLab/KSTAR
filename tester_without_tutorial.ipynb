{
 "cells": [
  {
   "cell_type": "code",
   "execution_count": null,
   "id": "initial_id",
   "metadata": {
    "collapsed": true
   },
   "outputs": [],
   "source": [
    "from kstar import config\n",
    "config.install_resource_files()\n",
    "#The above command will install the necessary network files for KSTAR to run. \n",
    "config.install_network_files()"
   ]
  },
  {
   "cell_type": "code",
   "outputs": [],
   "source": [
    "from kstar import config\n",
    "\n",
    "#update network directory: If KSTAR does not find this directory + necessary files, it will notify you\n",
    "config.NETWORK_DIR, config.NETWORK_Y_PICKLES, config.NETWORK_ST_PICKLES = config.update_network_directory('./NETWORKS/NetworKIN')\n",
    "\n",
    "#create network pickles. Only need to run this function if network pickles were not already generated.\n",
    "config.create_network_pickles()"
   ],
   "metadata": {
    "collapsed": false
   },
   "id": "84b971016cb3ce54",
   "execution_count": null
  },
  {
   "cell_type": "code",
   "outputs": [],
   "source": [
    "from kstar import config\n",
    "\n",
    "config.check_configuration()"
   ],
   "metadata": {
    "collapsed": false
   },
   "id": "ab37db63a516c5bf",
   "execution_count": null
  },
  {
   "cell_type": "code",
   "outputs": [],
   "source": [
    "#Import preamble of kstar and other necessary functions\n",
    "import pandas as pd\n",
    "import os\n",
    "import pickle\n",
    "from kstar import config, helpers, calculate_v1"
   ],
   "metadata": {
    "collapsed": false,
    "ExecuteTime": {
     "end_time": "2025-02-06T14:16:40.738272Z",
     "start_time": "2025-02-06T14:16:37.757427Z"
    }
   },
   "id": "e19d9c36a8177864",
   "execution_count": 7
  },
  {
   "cell_type": "code",
   "outputs": [],
   "source": [
    "#define the directory where mapped dataset and run information will be saved.\n",
    "odir = ''\n",
    "logName = ('')\n",
    "#Name\n",
    "logName_new = logName + '_Y'\n",
    "#if directory does not exits, create it\n",
    "if not os.path.exists(f\"{odir}/RESULTS\"):\n",
    "    os.mkdir(f\"{odir}/RESULTS\")\n",
    "#intialize log file\n",
    "activity_log = helpers.get_logger(f\"activity_{logName_new}\", f\"{odir}/RESULTS/activity_{logName_new}.log\")"
   ],
   "metadata": {
    "collapsed": false,
    "ExecuteTime": {
     "end_time": "2025-01-31T17:25:06.814441Z",
     "start_time": "2025-01-31T17:25:06.811414Z"
    }
   },
   "id": "230487ab6a93e7b9",
   "execution_count": 2
  },
  {
   "cell_type": "code",
   "outputs": [],
   "source": [
    "#load mapped data, if necessary\n",
    "experiment = pd.read_csv('', sep = ',', index_col = 0)"
   ],
   "metadata": {
    "collapsed": false,
    "ExecuteTime": {
     "end_time": "2025-01-31T17:25:10.250081Z",
     "start_time": "2025-01-31T17:25:10.241375Z"
    }
   },
   "id": "d6421658ebf0253d",
   "execution_count": 3
  },
  {
   "cell_type": "code",
   "outputs": [],
   "source": [
    "\n",
    "#Define parameters\n",
    "data_columns = None\n",
    "agg = 'mean'\n",
    "greater = True\n",
    "threshold = 1.0"
   ],
   "metadata": {
    "collapsed": false,
    "ExecuteTime": {
     "end_time": "2025-01-31T17:25:11.157410Z",
     "start_time": "2025-01-31T17:25:11.154666Z"
    }
   },
   "id": "384876c8fbe676cd",
   "execution_count": 4
  },
  {
   "cell_type": "code",
   "outputs": [],
   "source": [
    "#intialize KinaseActivity class object\n",
    "kinact = calculate_v1.KinaseActivity(experiment, activity_log, data_columns = data_columns, phospho_type='Y')                       \n",
    "#kinact = calculate.KinaseActivity(experiment, activity_log, data_columns = data_columns, phospho_type='Y')\n",
    "#convert evidence into binary evidence based on the provided threshold\n",
    "evidence_sizes = kinact.test_threshold(agg = agg, threshold = threshold,  greater = greater, return_evidence_sizes = True)"
   ],
   "metadata": {
    "collapsed": false
   },
   "id": "80520d7124eedb78",
   "execution_count": null
  },
  {
   "cell_type": "code",
   "outputs": [],
   "source": [
    "phospho_types = ['Y'] #running on this type of kinase/substrate network\n",
    "#Load the pickles containing the 50 pruned networks for tyrosine kinases\n",
    "networks = {}\n",
    "networks['Y'] = pickle.load(open(config.NETWORK_Y_PICKLE, \"rb\" ))"
   ],
   "metadata": {
    "collapsed": false,
    "ExecuteTime": {
     "end_time": "2025-01-31T17:25:13.529120Z",
     "start_time": "2025-01-31T17:25:13.262219Z"
    }
   },
   "id": "18af4b6da99793f6",
   "execution_count": 6
  },
  {
   "cell_type": "code",
   "outputs": [],
   "source": [
    "#Create activity log: if already did this, ignore.\n",
    "if not os.path.exists(f\"{odir}/RESULTS\"):\n",
    "    os.mkdir(f\"{odir}/RESULTS\")\n",
    "activity_log = helpers.get_logger(f\"activity_{logName}\", f\"{odir}/RESULTS/activity_{logName}.log\")"
   ],
   "metadata": {
    "collapsed": false,
    "ExecuteTime": {
     "end_time": "2025-01-31T17:25:14.239956Z",
     "start_time": "2025-01-31T17:25:14.236709Z"
    }
   },
   "id": "b9847af64f3c4188",
   "execution_count": 7
  },
  {
   "cell_type": "code",
   "outputs": [],
   "source": [
    "data_columns = None #by passing None, all columns prefixed by data: will be used to calculate activity\n",
    "agg = 'mean'\n",
    "threshold = 1.0\n",
    "greater = True"
   ],
   "metadata": {
    "collapsed": false,
    "ExecuteTime": {
     "end_time": "2025-01-31T17:25:15.029969Z",
     "start_time": "2025-01-31T17:25:15.028189Z"
    }
   },
   "id": "5cddabaacc7ad178",
   "execution_count": 8
  },
  {
   "cell_type": "code",
   "outputs": [],
   "source": [
    "\n",
    "kinact_dict = calculate_v1.enrichment_analysis(experiment, activity_log, networks, phospho_types = phospho_types,\n",
    "                                                agg =agg, threshold = threshold,\n",
    "                                                greater = greater, PROCESSES = 1)"
   ],
   "metadata": {
    "collapsed": false,
    "ExecuteTime": {
     "end_time": "2025-01-31T17:25:18.485549Z",
     "start_time": "2025-01-31T17:25:15.923126Z"
    }
   },
   "id": "ffc0654dd7a7fca0",
   "execution_count": 9
  },
  {
   "cell_type": "code",
   "outputs": [],
   "source": [
    "use_pregen_data = True\n",
    "save_new_precompute = False\n",
    "pregenerated_experiments_path = None\n",
    "directory_for_save_precompute = None\n",
    "network_hash = None\n",
    "save_random_experiments = False"
   ],
   "metadata": {
    "collapsed": false,
    "ExecuteTime": {
     "end_time": "2025-01-31T17:25:18.487898Z",
     "start_time": "2025-01-31T17:25:18.486467Z"
    }
   },
   "id": "c47782bd28c7bb6a",
   "execution_count": 10
  },
  {
   "cell_type": "code",
   "outputs": [],
   "source": [
    "\n",
    "# Set the number of random experiments\n",
    "num_random_experiments = 150\n",
    "\n",
    "# Generate random experiments\n",
    "calculate_v1.randomized_analysis(\n",
    "    kinact_dict,\n",
    "    activity_log,\n",
    "    num_random_experiments,\n",
    "    use_pregen_data,\n",
    "    save_new_precompute,\n",
    "    pregenerated_experiments_path,\n",
    "    directory_for_save_precompute,\n",
    "    network_hash,\n",
    "    save_random_experiments,\n",
    "    PROCESSES=1\n",
    ")\n"
   ],
   "metadata": {
    "collapsed": false
   },
   "id": "cddc41ef0e78cd7a",
   "execution_count": null
  },
  {
   "cell_type": "code",
   "outputs": [],
   "source": [
    "calculate_v1.Mann_Whitney_analysis(kinact_dict, activity_log, number_sig_trials = 100, PROCESSES = 1)\n"
   ],
   "metadata": {
    "collapsed": false,
    "ExecuteTime": {
     "end_time": "2025-01-31T16:15:44.682180Z",
     "start_time": "2025-01-31T16:15:00.095298Z"
    }
   },
   "id": "78cc6e67cef8557c",
   "execution_count": 12
  },
  {
   "cell_type": "code",
   "outputs": [],
   "source": [
    "calculate_v1.save_kstar(kinact_dict, logName, odir)"
   ],
   "metadata": {
    "collapsed": false,
    "ExecuteTime": {
     "end_time": "2025-01-31T16:15:52.537578Z",
     "start_time": "2025-01-31T16:15:50.330390Z"
    }
   },
   "id": "2128c9a1fdcc03c6",
   "execution_count": 13
  }
 ],
 "metadata": {
  "kernelspec": {
   "display_name": "Python 3",
   "language": "python",
   "name": "python3"
  },
  "language_info": {
   "codemirror_mode": {
    "name": "ipython",
    "version": 2
   },
   "file_extension": ".py",
   "mimetype": "text/x-python",
   "name": "python",
   "nbconvert_exporter": "python",
   "pygments_lexer": "ipython2",
   "version": "2.7.6"
  }
 },
 "nbformat": 4,
 "nbformat_minor": 5
}
