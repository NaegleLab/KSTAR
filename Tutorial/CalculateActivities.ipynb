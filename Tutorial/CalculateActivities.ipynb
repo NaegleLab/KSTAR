{
 "cells": [
  {
   "cell_type": "markdown",
   "metadata": {},
   "source": [
    "Kinase activity calculation requires selection of the following choices\n",
    "\n",
    "1. Tyrosine ['Y'] or Serine/Threonine ['ST'], or both ['Y, 'ST'] (default). \n",
    "2. How to handle duplicates (or greater) of the same peptide (i.e. aggregation). 'count' counts the total number of times a non-NaN value of that peptide occurred in an experiment. 'mean' averages the non-NaN values found for multiple peptides.\n",
    "3. The threshold to use for the 'mean' or 'count' aggregates. Can select values to be kept that are greater than or equal to provided threshold (greater=TRUE default). "
   ]
  },
  {
   "cell_type": "code",
   "execution_count": 17,
   "metadata": {},
   "outputs": [],
   "source": [
    "#Import preamble of kstar and other necessary functions\n",
    "import pandas as pd\n",
    "import os\n",
    "import pickle\n",
    "\n",
    "from kstar import config, helpers\n",
    "from kstar.activity import kstar_activity\n",
    "\n",
    "#define log name and out directory. Ideally use the same values used for mapping\n",
    "odir = './example'\n",
    "logName = 'example_run'"
   ]
  },
  {
   "cell_type": "markdown",
   "metadata": {},
   "source": [
    "## Determine Thresholds\n",
    "It is useful to determine the best threshold to use (which sites to use as evidence for each sample). One easy benchmark way is to identify the number of sites that will be used as evidence at different thresholds. For tyrosine kinase activities, it is recommended that samples have at least 50 tyrosine sites used as evidence, while for serine/threonine kinase activities, it is recommended that samples have at least 1000 sites used as evidence. While not a necessity, it is also beneficial to have comparable site numbers across samples."
   ]
  },
  {
   "cell_type": "code",
   "execution_count": 18,
   "metadata": {},
   "outputs": [],
   "source": [
    "#load mapped data, if necessary\n",
    "experiment = pd.read_csv(f'{odir}/MAPPED_DATA/{logName}_mapped.tsv', sep = '\\t', index_col = 0)"
   ]
  },
  {
   "cell_type": "code",
   "execution_count": 19,
   "metadata": {},
   "outputs": [],
   "source": [
    "#indicate phosphomod of interest: either 'Y' for tyrosine or 'ST' for serine/threonine\n",
    "phospho_type = ['Y']\n",
    "logName_new = logName + '_Y'\n",
    "#create activity log\n",
    "if not os.path.exists(f\"{odir}/RESULTS\"): \n",
    "    os.mkdir(f\"{odir}/RESULTS\")\n",
    "activity_log = helpers.get_logger(f\"activity_{logName_new}\", f\"{odir}/RESULTS/activity_{logName_new}.log\")"
   ]
  },
  {
   "cell_type": "code",
   "execution_count": 20,
   "metadata": {},
   "outputs": [
    {
     "data": {
      "text/plain": [
       "data:time:0       0.0\n",
       "data:time:5     128.0\n",
       "data:time:15    135.0\n",
       "data:time:30    191.0\n",
       "data:time:60    200.0\n",
       "dtype: float64"
      ]
     },
     "execution_count": 20,
     "metadata": {},
     "output_type": "execute_result"
    }
   ],
   "source": [
    "#If your data columns already have data: in front of their name, then data_columns can be set to None. \n",
    "#Otherwise, indicate which columns contain the data of interest here:\n",
    "data_columns = None\n",
    "\n",
    "agg = 'mean' # if a non-NaN value appears at all, use it\n",
    "threshold = 0.2\n",
    "\n",
    "\n",
    "#create the activity object and then \n",
    "kinact = kstar_activity.KinaseActivity(experiment, activity_log, phospho_type=phospho_type)\n",
    "kinact.set_data_columns()\n",
    "evidence_binary = kinact.create_binary_evidence(data_columns = None, agg = agg, threshold = threshold,  greater = True)\n",
    "\n",
    "#inspect the number of sites used for each sample\n",
    "data_cols = [col for col in evidence_binary.columns if 'data:' in col]\n",
    "evidence_binary[data_cols].sum()"
   ]
  },
  {
   "cell_type": "markdown",
   "metadata": {},
   "source": [
    "All samples above (except for the 0 time point, which will be removed prior to activity calculation) have greater than 50 sites being used as evidence, and the evidence sizes are generally comparable. This is a good threshold to use."
   ]
  },
  {
   "cell_type": "markdown",
   "metadata": {},
   "source": [
    "## Calculate Statistical Enrichment (Hypergeometric p-values)"
   ]
  },
  {
   "cell_type": "markdown",
   "metadata": {},
   "source": [
    "The first step to obtaining activity predictions is calculating the statistical enrichment of kinase substrates in the dataset using the hypergeometric test. From this test, the median p-value from the pruned networks can be used to indicate the level of activity. To obtain these predictions, use the following steps:\n",
    "1. Load the pruned kinase-substrate networks\n",
    "2. Generate an activity log, which will store information about each run, including any errors that arise.\n",
    "3. Define the data columns containing each experiment and the threshold to use\n",
    "4. Perform enrichment calculations"
   ]
  },
  {
   "cell_type": "code",
   "execution_count": 21,
   "metadata": {},
   "outputs": [],
   "source": [
    "phospho_types = ['Y'] #running on this type of kinase/substrate network\n",
    "\n",
    "#Setup the network dictionary. Here, using the default pickles from config\n",
    "# only have to load one of these if running analysis on only one substrate type\n",
    "networks = {}\n",
    "networks['Y'] = pickle.load(open(config.NETWORK_Y_PICKLE, \"rb\" ) )"
   ]
  },
  {
   "cell_type": "code",
   "execution_count": 6,
   "metadata": {},
   "outputs": [],
   "source": [
    "#Create activity log: if already did this, ignore.\n",
    "if not os.path.exists(f\"{odir}/RESULTS\"): \n",
    "    os.mkdir(f\"{odir}/RESULTS\")\n",
    "activity_log = helpers.get_logger(f\"activity_{logName}\", f\"{odir}/RESULTS/activity_{logName}.log\")"
   ]
  },
  {
   "cell_type": "code",
   "execution_count": 7,
   "metadata": {},
   "outputs": [],
   "source": [
    "data_columns = None #by passing None, all columns prefixed by data: will be used to calculate activity\n",
    "agg = 'mean'\n",
    "threshold = 0.2\n",
    "greater = True\n",
    "kinact_dict = kstar_activity.run_kstar_analysis(experiment, activity_log, networks, phospho_types = phospho_types, \n",
    "                                                data_columns = data_columns, agg =agg, threshold = threshold,  \n",
    "                                                greater = greater)"
   ]
  },
  {
   "cell_type": "code",
   "execution_count": 8,
   "metadata": {},
   "outputs": [
    {
     "data": {
      "text/html": [
       "<div>\n",
       "<style scoped>\n",
       "    .dataframe tbody tr th:only-of-type {\n",
       "        vertical-align: middle;\n",
       "    }\n",
       "\n",
       "    .dataframe tbody tr th {\n",
       "        vertical-align: top;\n",
       "    }\n",
       "\n",
       "    .dataframe thead th {\n",
       "        text-align: right;\n",
       "    }\n",
       "</style>\n",
       "<table border=\"1\" class=\"dataframe\">\n",
       "  <thead>\n",
       "    <tr style=\"text-align: right;\">\n",
       "      <th></th>\n",
       "      <th>data:time:5</th>\n",
       "      <th>data:time:15</th>\n",
       "      <th>data:time:30</th>\n",
       "      <th>data:time:60</th>\n",
       "    </tr>\n",
       "    <tr>\n",
       "      <th>KSTAR_KINASE</th>\n",
       "      <th></th>\n",
       "      <th></th>\n",
       "      <th></th>\n",
       "      <th></th>\n",
       "    </tr>\n",
       "  </thead>\n",
       "  <tbody>\n",
       "    <tr>\n",
       "      <th>LCK</th>\n",
       "      <td>0.000007</td>\n",
       "      <td>8.355183e-08</td>\n",
       "      <td>4.000094e-11</td>\n",
       "      <td>1.059710e-13</td>\n",
       "    </tr>\n",
       "    <tr>\n",
       "      <th>FYN</th>\n",
       "      <td>0.000587</td>\n",
       "      <td>1.244823e-04</td>\n",
       "      <td>6.028671e-06</td>\n",
       "      <td>5.408169e-08</td>\n",
       "    </tr>\n",
       "    <tr>\n",
       "      <th>ITK</th>\n",
       "      <td>0.019084</td>\n",
       "      <td>4.479018e-03</td>\n",
       "      <td>7.399574e-05</td>\n",
       "      <td>2.249004e-05</td>\n",
       "    </tr>\n",
       "    <tr>\n",
       "      <th>HCK</th>\n",
       "      <td>0.036456</td>\n",
       "      <td>3.438913e-02</td>\n",
       "      <td>2.025043e-04</td>\n",
       "      <td>3.413670e-06</td>\n",
       "    </tr>\n",
       "    <tr>\n",
       "      <th>BTK</th>\n",
       "      <td>0.023044</td>\n",
       "      <td>3.009696e-02</td>\n",
       "      <td>2.667463e-04</td>\n",
       "      <td>3.553248e-06</td>\n",
       "    </tr>\n",
       "  </tbody>\n",
       "</table>\n",
       "</div>"
      ],
      "text/plain": [
       "              data:time:5  data:time:15  data:time:30  data:time:60\n",
       "KSTAR_KINASE                                                       \n",
       "LCK              0.000007  8.355183e-08  4.000094e-11  1.059710e-13\n",
       "FYN              0.000587  1.244823e-04  6.028671e-06  5.408169e-08\n",
       "ITK              0.019084  4.479018e-03  7.399574e-05  2.249004e-05\n",
       "HCK              0.036456  3.438913e-02  2.025043e-04  3.413670e-06\n",
       "BTK              0.023044  3.009696e-02  2.667463e-04  3.553248e-06"
      ]
     },
     "execution_count": 8,
     "metadata": {},
     "output_type": "execute_result"
    }
   ],
   "source": [
    "#Kinase activities, as the median pvalues seen across all networks, and summarized\n",
    "# have now been calculated and you can see them here as activities\n",
    "# let's sort by the most active at 30 seconds\n",
    "kinact_dict['Y'].activities.sort_values('data:time:30').head()"
   ]
  },
  {
   "cell_type": "markdown",
   "metadata": {},
   "source": [
    "## Generate random datasets, run kinase activity on random datasets, normalize original analysis"
   ]
  },
  {
   "cell_type": "markdown",
   "metadata": {},
   "source": [
    "The p-value enrichment obtained from the hypergeometric test above often suffer from high false positive rates for specific kinases that are well studied in phosphosite compendia such as LCK and FYN. In order to account for these false positive rates, we want to generate random datasets and rerun enrichment calculations on each of the random datasets. These random results can then be used to obtain new activity predictions that have been adjusted for the enrichment that might be found by random chance. "
   ]
  },
  {
   "cell_type": "code",
   "execution_count": 9,
   "metadata": {},
   "outputs": [],
   "source": [
    "#indicate the number of random experiments generate. 150 experiments provides a good balance between statistical power and\n",
    "#    computational complexity\n",
    "num_random_experiments=150\n",
    "#indicate the desired false positive rate\n",
    "target_alpha=0.05\n",
    "#run the normalize analysis. This will generate the random experiments then normalize p-values to adjust for fpr.\n",
    "kstar_activity.normalize_analysis(kinact_dict, activity_log, num_random_experiments, target_alpha)"
   ]
  },
  {
   "cell_type": "code",
   "execution_count": 10,
   "metadata": {},
   "outputs": [
    {
     "data": {
      "text/html": [
       "<div>\n",
       "<style scoped>\n",
       "    .dataframe tbody tr th:only-of-type {\n",
       "        vertical-align: middle;\n",
       "    }\n",
       "\n",
       "    .dataframe tbody tr th {\n",
       "        vertical-align: top;\n",
       "    }\n",
       "\n",
       "    .dataframe thead th {\n",
       "        text-align: right;\n",
       "    }\n",
       "</style>\n",
       "<table border=\"1\" class=\"dataframe\">\n",
       "  <thead>\n",
       "    <tr style=\"text-align: right;\">\n",
       "      <th></th>\n",
       "      <th>KSTAR_ACCESSION</th>\n",
       "      <th>KSTAR_SITE</th>\n",
       "      <th>data:time:5:0</th>\n",
       "      <th>data:time:5:1</th>\n",
       "      <th>data:time:5:2</th>\n",
       "      <th>data:time:5:3</th>\n",
       "      <th>data:time:5:4</th>\n",
       "      <th>data:time:5:5</th>\n",
       "      <th>data:time:5:6</th>\n",
       "      <th>data:time:5:7</th>\n",
       "      <th>...</th>\n",
       "      <th>data:time:60:140</th>\n",
       "      <th>data:time:60:141</th>\n",
       "      <th>data:time:60:142</th>\n",
       "      <th>data:time:60:143</th>\n",
       "      <th>data:time:60:144</th>\n",
       "      <th>data:time:60:145</th>\n",
       "      <th>data:time:60:146</th>\n",
       "      <th>data:time:60:147</th>\n",
       "      <th>data:time:60:148</th>\n",
       "      <th>data:time:60:149</th>\n",
       "    </tr>\n",
       "  </thead>\n",
       "  <tbody>\n",
       "    <tr>\n",
       "      <th>0</th>\n",
       "      <td>A0AUZ9</td>\n",
       "      <td>Y792</td>\n",
       "      <td>NaN</td>\n",
       "      <td>NaN</td>\n",
       "      <td>NaN</td>\n",
       "      <td>NaN</td>\n",
       "      <td>NaN</td>\n",
       "      <td>NaN</td>\n",
       "      <td>NaN</td>\n",
       "      <td>NaN</td>\n",
       "      <td>...</td>\n",
       "      <td>NaN</td>\n",
       "      <td>NaN</td>\n",
       "      <td>NaN</td>\n",
       "      <td>NaN</td>\n",
       "      <td>NaN</td>\n",
       "      <td>NaN</td>\n",
       "      <td>NaN</td>\n",
       "      <td>NaN</td>\n",
       "      <td>NaN</td>\n",
       "      <td>NaN</td>\n",
       "    </tr>\n",
       "    <tr>\n",
       "      <th>1</th>\n",
       "      <td>A0AV02</td>\n",
       "      <td>Y107</td>\n",
       "      <td>NaN</td>\n",
       "      <td>NaN</td>\n",
       "      <td>NaN</td>\n",
       "      <td>NaN</td>\n",
       "      <td>NaN</td>\n",
       "      <td>NaN</td>\n",
       "      <td>NaN</td>\n",
       "      <td>NaN</td>\n",
       "      <td>...</td>\n",
       "      <td>NaN</td>\n",
       "      <td>NaN</td>\n",
       "      <td>NaN</td>\n",
       "      <td>NaN</td>\n",
       "      <td>NaN</td>\n",
       "      <td>NaN</td>\n",
       "      <td>NaN</td>\n",
       "      <td>NaN</td>\n",
       "      <td>NaN</td>\n",
       "      <td>NaN</td>\n",
       "    </tr>\n",
       "    <tr>\n",
       "      <th>2</th>\n",
       "      <td>A0AVF1</td>\n",
       "      <td>Y167</td>\n",
       "      <td>NaN</td>\n",
       "      <td>NaN</td>\n",
       "      <td>NaN</td>\n",
       "      <td>NaN</td>\n",
       "      <td>NaN</td>\n",
       "      <td>NaN</td>\n",
       "      <td>NaN</td>\n",
       "      <td>NaN</td>\n",
       "      <td>...</td>\n",
       "      <td>NaN</td>\n",
       "      <td>NaN</td>\n",
       "      <td>NaN</td>\n",
       "      <td>NaN</td>\n",
       "      <td>NaN</td>\n",
       "      <td>NaN</td>\n",
       "      <td>NaN</td>\n",
       "      <td>NaN</td>\n",
       "      <td>NaN</td>\n",
       "      <td>NaN</td>\n",
       "    </tr>\n",
       "    <tr>\n",
       "      <th>3</th>\n",
       "      <td>A0AVF1</td>\n",
       "      <td>Y174</td>\n",
       "      <td>NaN</td>\n",
       "      <td>NaN</td>\n",
       "      <td>NaN</td>\n",
       "      <td>NaN</td>\n",
       "      <td>NaN</td>\n",
       "      <td>NaN</td>\n",
       "      <td>NaN</td>\n",
       "      <td>NaN</td>\n",
       "      <td>...</td>\n",
       "      <td>NaN</td>\n",
       "      <td>NaN</td>\n",
       "      <td>NaN</td>\n",
       "      <td>NaN</td>\n",
       "      <td>NaN</td>\n",
       "      <td>NaN</td>\n",
       "      <td>NaN</td>\n",
       "      <td>NaN</td>\n",
       "      <td>NaN</td>\n",
       "      <td>1.0</td>\n",
       "    </tr>\n",
       "    <tr>\n",
       "      <th>4</th>\n",
       "      <td>A0AVI2</td>\n",
       "      <td>Y1801</td>\n",
       "      <td>NaN</td>\n",
       "      <td>NaN</td>\n",
       "      <td>NaN</td>\n",
       "      <td>NaN</td>\n",
       "      <td>NaN</td>\n",
       "      <td>NaN</td>\n",
       "      <td>NaN</td>\n",
       "      <td>NaN</td>\n",
       "      <td>...</td>\n",
       "      <td>NaN</td>\n",
       "      <td>NaN</td>\n",
       "      <td>NaN</td>\n",
       "      <td>NaN</td>\n",
       "      <td>NaN</td>\n",
       "      <td>NaN</td>\n",
       "      <td>NaN</td>\n",
       "      <td>NaN</td>\n",
       "      <td>NaN</td>\n",
       "      <td>NaN</td>\n",
       "    </tr>\n",
       "  </tbody>\n",
       "</table>\n",
       "<p>5 rows × 602 columns</p>\n",
       "</div>"
      ],
      "text/plain": [
       "  KSTAR_ACCESSION KSTAR_SITE  data:time:5:0  data:time:5:1  data:time:5:2  \\\n",
       "0          A0AUZ9       Y792            NaN            NaN            NaN   \n",
       "1          A0AV02       Y107            NaN            NaN            NaN   \n",
       "2          A0AVF1       Y167            NaN            NaN            NaN   \n",
       "3          A0AVF1       Y174            NaN            NaN            NaN   \n",
       "4          A0AVI2      Y1801            NaN            NaN            NaN   \n",
       "\n",
       "   data:time:5:3  data:time:5:4  data:time:5:5  data:time:5:6  data:time:5:7  \\\n",
       "0            NaN            NaN            NaN            NaN            NaN   \n",
       "1            NaN            NaN            NaN            NaN            NaN   \n",
       "2            NaN            NaN            NaN            NaN            NaN   \n",
       "3            NaN            NaN            NaN            NaN            NaN   \n",
       "4            NaN            NaN            NaN            NaN            NaN   \n",
       "\n",
       "   ...  data:time:60:140  data:time:60:141  data:time:60:142  \\\n",
       "0  ...               NaN               NaN               NaN   \n",
       "1  ...               NaN               NaN               NaN   \n",
       "2  ...               NaN               NaN               NaN   \n",
       "3  ...               NaN               NaN               NaN   \n",
       "4  ...               NaN               NaN               NaN   \n",
       "\n",
       "   data:time:60:143  data:time:60:144  data:time:60:145  data:time:60:146  \\\n",
       "0               NaN               NaN               NaN               NaN   \n",
       "1               NaN               NaN               NaN               NaN   \n",
       "2               NaN               NaN               NaN               NaN   \n",
       "3               NaN               NaN               NaN               NaN   \n",
       "4               NaN               NaN               NaN               NaN   \n",
       "\n",
       "   data:time:60:147  data:time:60:148  data:time:60:149  \n",
       "0               NaN               NaN               NaN  \n",
       "1               NaN               NaN               NaN  \n",
       "2               NaN               NaN               NaN  \n",
       "3               NaN               NaN               1.0  \n",
       "4               NaN               NaN               NaN  \n",
       "\n",
       "[5 rows x 602 columns]"
      ]
     },
     "execution_count": 10,
     "metadata": {},
     "output_type": "execute_result"
    }
   ],
   "source": [
    "#This object holds the random datasets that were used, where NaN means a site was not selected and 1 means it was\n",
    "kinact_dict['Y'].random_experiments.head()"
   ]
  },
  {
   "cell_type": "code",
   "execution_count": 11,
   "metadata": {},
   "outputs": [
    {
     "data": {
      "text/plain": [
       "KSTAR_ACCESSION     A0AUZ9A0AV02A0AVF1A0AVF1A0AVI2A0AVK6A0AVK6A0AV...\n",
       "KSTAR_SITE          Y792Y107Y167Y174Y1801Y202Y316Y1046Y44Y558Y979Y...\n",
       "data:time:5:0                                                     128\n",
       "data:time:5:1                                                     128\n",
       "data:time:5:2                                                     128\n",
       "                                          ...                        \n",
       "data:time:60:145                                                  200\n",
       "data:time:60:146                                                  200\n",
       "data:time:60:147                                                  200\n",
       "data:time:60:148                                                  200\n",
       "data:time:60:149                                                  200\n",
       "Length: 602, dtype: object"
      ]
     },
     "execution_count": 11,
     "metadata": {},
     "output_type": "execute_result"
    }
   ],
   "source": [
    "# If you sum the random_experiments it will tell you how many total sites were selected, which should match\n",
    "# the parent experiment \n",
    "kinact_dict['Y'].random_experiments.sum()"
   ]
  },
  {
   "cell_type": "markdown",
   "metadata": {},
   "source": [
    "## Calculate Mann Whitney Significance"
   ]
  },
  {
   "cell_type": "markdown",
   "metadata": {},
   "source": [
    "Finally, the preferred activity estimation involves implementing the Mann Whitney test to compare the distribution of real p-values (activity predictions on the real dataset) to the random p-values (activity predictions on the random dataset). Further, a false positive rate is calculated by pulling out one of the random datasets and comparing to all other random datasets using the same Mann Whitney test. The parameter 'number_sig_trials' indicates the number of times to repeat this calculation to obtain the false positive rate."
   ]
  },
  {
   "cell_type": "code",
   "execution_count": 12,
   "metadata": {},
   "outputs": [],
   "source": [
    "#run MW analysis on tyrosine. These will provide the final distribution based p-values used for final kinase activity scores\n",
    "kstar_activity.Mann_Whitney_analysis(kinact_dict, activity_log, number_sig_trials = 100)"
   ]
  },
  {
   "cell_type": "markdown",
   "metadata": {},
   "source": [
    "## Save KSTAR Results"
   ]
  },
  {
   "cell_type": "markdown",
   "metadata": {},
   "source": [
    "There are several options that can be used to save results obtained from KSTAR. If all information is desired, use save_kstar object, which will save all attributes found in the KinaseActivity object. "
   ]
  },
  {
   "cell_type": "code",
   "execution_count": 13,
   "metadata": {},
   "outputs": [],
   "source": [
    "kstar_activity.save_kstar(kinact_dict, logName, odir)"
   ]
  },
  {
   "cell_type": "markdown",
   "metadata": {},
   "source": [
    "However, this produces a very large file that takes up considerable memory. If you do not need the random experiments that were generated for normalization and mann whitney calculations, then it is recommended that kstar_slim is used. This will still save all activity and fpr predictions."
   ]
  },
  {
   "cell_type": "code",
   "execution_count": 14,
   "metadata": {},
   "outputs": [],
   "source": [
    "kstar_activity.save_kstar_slim(kinact_dict, logName, odir)"
   ]
  },
  {
   "cell_type": "markdown",
   "metadata": {},
   "source": [
    "Lastly, it is possible to just save each KinaseActivity attribute individually using pandas:"
   ]
  },
  {
   "cell_type": "code",
   "execution_count": 16,
   "metadata": {},
   "outputs": [],
   "source": [
    "kinact_dict['Y'].activities_mann_whitney.to_csv(f'{logName}_Y_mann_whitney_activities.tsv', sep = '\\t')\n",
    "kinact_dict['Y'].fpr_mann_whitney.to_csv(f'{logName}_Y_mann_whitney_fpr.tsv', sep = '\\t')"
   ]
  }
 ],
 "metadata": {
  "kernelspec": {
   "display_name": "Python [conda env:py37-KSTAR] *",
   "language": "python",
   "name": "conda-env-py37-KSTAR-py"
  },
  "language_info": {
   "codemirror_mode": {
    "name": "ipython",
    "version": 3
   },
   "file_extension": ".py",
   "mimetype": "text/x-python",
   "name": "python",
   "nbconvert_exporter": "python",
   "pygments_lexer": "ipython3",
   "version": "3.7.9"
  }
 },
 "nbformat": 4,
 "nbformat_minor": 4
}
