{
 "cells": [
  {
   "cell_type": "code",
   "execution_count": 1,
   "id": "f94f3521",
   "metadata": {},
   "outputs": [
    {
     "name": "stdout",
     "output_type": "stream",
     "text": [
      "Could not find reference proteome. Please install the resource directory using config.install_resource_files()\n",
      "Could not find reference proteome. Please install the resource directory using config.install_resource_files()\n"
     ]
    }
   ],
   "source": [
    "from kstar import config"
   ]
  },
  {
   "cell_type": "code",
   "execution_count": 10,
   "id": "6a42267a",
   "metadata": {},
   "outputs": [
    {
     "data": {
      "text/plain": [
       "'C:/Users/Sam/OneDrive/Documents/GradSchool/NETWORKS/NetworKIN/'"
      ]
     },
     "execution_count": 10,
     "metadata": {},
     "output_type": "execute_result"
    }
   ],
   "source": [
    "config.NETWORK_DIR"
   ]
  },
  {
   "cell_type": "code",
   "execution_count": 11,
   "id": "4f4dc9c2",
   "metadata": {},
   "outputs": [
    {
     "name": "stdout",
     "output_type": "stream",
     "text": [
      "Requesting file\n",
      "Extracting c:\\Users\\Sam\\miniconda3\\envs\\kstar-test\\Lib\\site-packages/RESOURCE_FILES.tar.gz\n"
     ]
    }
   ],
   "source": [
    "config.install_resource_files()"
   ]
  },
  {
   "cell_type": "code",
   "execution_count": 16,
   "id": "d47c8d3f",
   "metadata": {},
   "outputs": [
    {
     "name": "stdout",
     "output_type": "stream",
     "text": [
      "Network directory updated.\n",
      "Network pickles already generated\n"
     ]
    }
   ],
   "source": [
    "config.NETWORK_DIR, config.NETWORK_Y_PICKLE, config.NETWORK_ST_PICKLE = config.update_network_directory('C:/Users/Sam/OneDrive/Documents/GradSchool/NETWORKS/NetworKIN')"
   ]
  },
  {
   "cell_type": "code",
   "execution_count": null,
   "id": "b0659d72",
   "metadata": {},
   "outputs": [],
   "source": []
  },
  {
   "cell_type": "code",
   "execution_count": 13,
   "id": "0b44ad24",
   "metadata": {},
   "outputs": [
    {
     "name": "stdout",
     "output_type": "stream",
     "text": [
      "Y network pickle already generated\n",
      "ST network pickle already generated\n"
     ]
    }
   ],
   "source": [
    "config.create_network_pickles()"
   ]
  },
  {
   "cell_type": "code",
   "execution_count": 17,
   "id": "b9263286",
   "metadata": {},
   "outputs": [
    {
     "name": "stdout",
     "output_type": "stream",
     "text": [
      "You are ready to begin! You can generate predictions for both Y and ST networks.\n"
     ]
    }
   ],
   "source": [
    "config.check_configuration()"
   ]
  }
 ],
 "metadata": {
  "kernelspec": {
   "display_name": "Python 3",
   "language": "python",
   "name": "python3"
  },
  "language_info": {
   "codemirror_mode": {
    "name": "ipython",
    "version": 3
   },
   "file_extension": ".py",
   "mimetype": "text/x-python",
   "name": "python",
   "nbconvert_exporter": "python",
   "pygments_lexer": "ipython3",
   "version": "3.12.1"
  }
 },
 "nbformat": 4,
 "nbformat_minor": 5
}
